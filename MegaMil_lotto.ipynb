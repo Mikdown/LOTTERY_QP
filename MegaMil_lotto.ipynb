{
  "cells": [
    {
      "attachments": {},
      "cell_type": "markdown",
      "metadata": {},
      "source": [
        "### The following code cell imports the necessary packages, creates the file connection URLs and connects to a SQLite database file (Creates one if it does not exist)."
      ]
    },
    {
      "cell_type": "code",
      "execution_count": 27,
      "metadata": {
        "id": "ciAogFP5eKQJ"
      },
      "outputs": [],
      "source": [
        "import pandas as pd\n",
        "pd.set_option('display.max_columns', 20)\n",
        "pd.set_option('display.width', 1000)\n",
        "import numpy as np\n",
        "import random\n",
        "import sqlite3\n",
        "from bokeh.io import curdoc\n",
        "from bokeh.plotting import figure, output_file, show\n",
        "mega_draw_file_url = (\"https://raw.githubusercontent.com/Mikdown/Lottery-Picker/master/assets/megamillions.csv\")\n",
        "mega_weather_file_url = (\"https://raw.githubusercontent.com/Mikdown/Lottery-Picker/master/assets/mega_weather.csv\")\n",
        "\n",
        "conn = sqlite3.connect('assets/lottery_data.db')\n",
        "cur = conn.cursor()"
      ]
    },
    {
      "attachments": {},
      "cell_type": "markdown",
      "metadata": {
        "id": "hO-6wKUjeKQK"
      },
      "source": [
        "### The following three code cells meet the first and second feature requirements:\n",
        "1. Feature 1 - Read two data files (CSV).\n",
        "2. Feature 2 - Clean your data.\n",
        "    - Two CSV files are read in from Github and cleaned(transformed) with Pandas. \n",
        "3. Feature 1 - Set up a local database and read data in with SQLite.\n",
        "4. Feature 2 - Perform a SQL join.\n",
        "    - After transformation the files are read into a local SQLite3 DB to be used for futher analysis.\n",
        "    - Data is read in from the database, filtered, grouped and a SQL join is performed on 2 tables."
      ]
    },
    {
      "cell_type": "code",
      "execution_count": 3,
      "metadata": {
        "colab": {
          "base_uri": "https://localhost:8080/"
        },
        "id": "Dhjb2ff4DT_D",
        "outputId": "2c7347cf-6f65-4c28-c0af-3c7e91a42051"
      },
      "outputs": [
        {
          "name": "stdout",
          "output_type": "stream",
          "text": [
            "           Date           game  num_1  num_2  num_3  num_4  num_5  mb     month day_name  day_num  day_date draw_time\n",
            "0    2003-12-05  Mega Millions     12     44     15     18      1  42  December   Friday        4         5      2300\n",
            "1    2003-12-09  Mega Millions     14     15     48      4     24  41  December  Tuesday        1         9      2300\n",
            "2    2003-12-12  Mega Millions     16     32     46      9     45  26  December   Friday        4        12      2300\n",
            "3    2003-12-16  Mega Millions     47     16     31     24     46  47  December  Tuesday        1        16      2300\n",
            "4    2003-12-19  Mega Millions      5     10     39     17     35  38  December   Friday        4        19      2300\n",
            "...         ...            ...    ...    ...    ...    ...    ...  ..       ...      ...      ...       ...       ...\n",
            "2006 2023-02-24  Mega Millions     22     49      2     65     67   7  February   Friday        4        24      2300\n",
            "2007 2023-02-28  Mega Millions     59     52     40     14     16  13  February  Tuesday        1        28      2300\n",
            "2008 2023-03-03  Mega Millions     39      8     67     36     25  11     March   Friday        4         3      2300\n",
            "2009 2023-03-07  Mega Millions     15     69     28     25     22  21     March  Tuesday        1         7      2300\n",
            "2010 2023-03-10  Mega Millions     60      9     20     59     63   5     March   Friday        4        10      2300\n",
            "\n",
            "[2011 rows x 13 columns]\n",
            "                 DATE_TIME DPTemp  DBTemp  Precip  RHumid       Date  Time\n",
            "0      2013-01-01 00:53:00     36      47     0.0      66 2013-01-01  0053\n",
            "1      2013-01-01 01:53:00     36      43     0.0      76 2013-01-01  0153\n",
            "2      2013-01-01 02:51:00     37      45     0.0      76 2013-01-01  0251\n",
            "3      2013-01-01 02:53:00     37      44     0.0      76 2013-01-01  0253\n",
            "4      2013-01-01 03:53:00     38      45     0.0      77 2013-01-01  0353\n",
            "...                    ...    ...     ...     ...     ...        ...   ...\n",
            "115441 2022-12-16 22:53:00     28      43     0.0      56 2022-12-16  2253\n",
            "115442 2022-12-16 23:53:00     27      44     0.0      51 2022-12-16  2353\n",
            "115443 2022-12-16 23:59:00    NaN       0     0.0       0 2022-12-16  2359\n",
            "115444 2022-12-17 00:53:00     28      45     0.0      52 2022-12-17  0053\n",
            "115445 2022-12-17 01:53:00     28      45     0.0      52 2022-12-17  0153\n",
            "\n",
            "[115446 rows x 7 columns]\n"
          ]
        }
      ],
      "source": [
        "#Create the variables for file reads.\n",
        "mega_draw_file = (mega_draw_file_url)\n",
        "mega_weather_file = (mega_weather_file_url)\n",
        "\n",
        "#Read in data from two CSV files.\n",
        "mega_draw_df = pd.read_csv(mega_draw_file, engine='python', parse_dates= {\"draw_date\" : [\"year\",\"month\",\"day\"]})\n",
        "mega_weather_df = pd.read_csv(mega_weather_file, engine='python')\n",
        "\n",
        "#Split the \"DATE_TIME\" column into 2 seperate columns \"Date\" and \"Time\".\n",
        "mega_weather_df['Date'] = pd.to_datetime(mega_weather_df['DATE_TIME']).dt.strftime('%Y%m%d')\n",
        "mega_weather_df['Time'] = pd.to_datetime(mega_weather_df['DATE_TIME']).dt.strftime('%H%M')\n",
        "\n",
        "#Set the dtype to \"datetime\" for the two date coulmns.\n",
        "mega_weather_df['Date'] = pd.to_datetime(mega_weather_df['Date'])\n",
        "mega_weather_df['DATE_TIME'] = pd.to_datetime(mega_weather_df['DATE_TIME'])\n",
        "\n",
        "#Clean/Transform - 1. Rename column, \n",
        "                  #2. Format date string, \n",
        "                  #3. Set dtype to \"datetime\", \n",
        "                  #4. Create 4 new columns from the \"Date\" column. \n",
        "                  #5. Set dtype to \"int\" for the number columns.\n",
        "mega_draw_df.rename({'draw_date': 'Date'}, axis=1, inplace=True)\n",
        "mega_draw_df['Date'] = pd.to_datetime(mega_draw_df['Date']).dt.strftime('%Y%m%d')\n",
        "mega_draw_df['Date'] = pd.to_datetime(mega_draw_df['Date'])\n",
        "mega_draw_df['month'] = pd.DatetimeIndex(mega_draw_df['Date']).month_name()\n",
        "mega_draw_df['day_name'] = pd.DatetimeIndex(mega_draw_df['Date']).day_name()\n",
        "mega_draw_df['day_num'] = pd.DatetimeIndex(mega_draw_df['Date']).dayofweek\n",
        "mega_draw_df['day_date'] = pd.DatetimeIndex(mega_draw_df['Date']).day\n",
        "mega_draw_df['draw_time'] = '2300'\n",
        "mega_draw_df[['num_1', 'num_2', 'num_3', 'num_4', 'num_5', 'mb']] = mega_draw_df[['num_1', 'num_2', 'num_3', 'num_4', 'num_5', 'mb']].astype(int)\n",
        "\n",
        "#Create two new tables in the SQLite DB file.\n",
        "mega_draw_df.to_sql('mm_draw', conn, if_exists='replace', index = False)\n",
        "mega_weather_df.to_sql('mm_weather', conn, if_exists='replace', index = False)\n",
        "\n",
        "#Print the outputs of the dataframes to confirm changes have been applied.\n",
        "print(mega_draw_df)\n",
        "print(mega_weather_df)"
      ]
    },
    {
      "cell_type": "code",
      "execution_count": 4,
      "metadata": {
        "colab": {
          "base_uri": "https://localhost:8080/"
        },
        "id": "iLMXBtZJnKOf",
        "outputId": "b26c8cb5-8c87-47d5-bf18-74a2966ca595"
      },
      "outputs": [
        {
          "name": "stdout",
          "output_type": "stream",
          "text": [
            "               DATE_TIME DPTemp  DBTemp  Precip  RHumid       Date  Time\n",
            "0    2013-01-01 22:53:00     50      51    0.06      96 2013-01-01  2253\n",
            "1    2013-01-01 23:53:00     50      51    0.07      96 2013-01-01  2353\n",
            "2    2013-01-02 22:53:00     35      40    0.00      83 2013-01-02  2253\n",
            "3    2013-01-02 23:53:00     36      39    0.00      89 2013-01-02  2353\n",
            "4    2013-01-03 22:53:00     27      36    0.00      70 2013-01-03  2253\n",
            "...                  ...    ...     ...     ...     ...        ...   ...\n",
            "8981 2022-12-14 23:53:00     46      48    0.16      93 2022-12-14  2353\n",
            "8982 2022-12-15 22:53:00     32      44    0.00      63 2022-12-15  2253\n",
            "8983 2022-12-15 23:53:00     32      44    0.00      63 2022-12-15  2353\n",
            "8984 2022-12-16 22:53:00     28      43    0.00      56 2022-12-16  2253\n",
            "8985 2022-12-16 23:53:00     27      44    0.00      51 2022-12-16  2353\n",
            "\n",
            "[8986 rows x 7 columns]\n",
            "                DATE_TIME DPTemp  DBTemp  Precip  RHumid                 Date  Time\n",
            "0     2013-01-01 22:53:00     50      51    0.06      96  2013-01-01 00:00:00  2253\n",
            "1     2013-01-02 22:53:00     35      40    0.00      83  2013-01-02 00:00:00  2253\n",
            "2     2013-01-03 22:53:00     27      36    0.00      70  2013-01-03 00:00:00  2253\n",
            "3     2013-01-04 22:53:00     25      30    0.00      82  2013-01-04 00:00:00  2253\n",
            "4     2013-01-05 22:53:00     38      43    0.00      82  2013-01-05 00:00:00  2253\n",
            "...                   ...    ...     ...     ...     ...                  ...   ...\n",
            "3632  2022-12-12 22:53:00     50      54    0.00      87  2022-12-12 00:00:00  2253\n",
            "3633  2022-12-13 22:53:00     39      49    0.00      69  2022-12-13 00:00:00  2253\n",
            "3634  2022-12-14 22:21:00     46      47    0.11      97  2022-12-14 00:00:00  2221\n",
            "3635  2022-12-15 22:53:00     32      44    0.00      63  2022-12-15 00:00:00  2253\n",
            "3636  2022-12-16 22:53:00     28      43    0.00      56  2022-12-16 00:00:00  2253\n",
            "\n",
            "[3637 rows x 7 columns]\n",
            "                     Date           game  num_1  num_2  num_3  num_4  num_5  mb     month day_name  day_num  day_date draw_time            DATE_TIME DPTemp  DBTemp  Precip  RHumid  Time\n",
            "0     2013-01-01 00:00:00  Mega Millions     11     21      4     44     25  29   January  Tuesday        1         1      2300  2013-01-01 22:53:00     50      51    0.06      96  2253\n",
            "1     2013-01-04 00:00:00  Mega Millions      2     23     55     25      1  39   January   Friday        4         4      2300  2013-01-04 22:53:00     25      30    0.00      82  2253\n",
            "2     2013-01-08 00:00:00  Mega Millions      3     38     20     21     42  19   January  Tuesday        1         8      2300  2013-01-08 22:53:00     40      50    0.00      68  2253\n",
            "3     2013-01-11 00:00:00  Mega Millions     29     56     24     34     30   1   January   Friday        4        11      2300  2013-01-11 22:53:00     60      61    0.00      97  2253\n",
            "4     2013-01-15 00:00:00  Mega Millions     19      1     41     12      6  14   January  Tuesday        1        15      2300  2013-01-15 22:51:00     55      57    0.00      94  2251\n",
            "...                   ...            ...    ...    ...    ...    ...    ...  ..       ...      ...      ...       ...       ...                  ...    ...     ...     ...     ...   ...\n",
            "1035  2022-12-02 00:00:00  Mega Millions     52     46     21      1     36  16  December   Friday        4         2      2300  2022-12-02 22:53:00     44      54    0.00      69  2253\n",
            "1036  2022-12-06 00:00:00  Mega Millions     28     19     16     15     47  13  December  Tuesday        1         6      2300  2022-12-06 22:51:00     54      54    0.00     100  2251\n",
            "1037  2022-12-09 00:00:00  Mega Millions     61     19      8     53     69  19  December   Friday        4         9      2300  2022-12-09 22:53:00     56      57    0.00      96  2253\n",
            "1038  2022-12-13 00:00:00  Mega Millions     48     58     14     68     22   6  December  Tuesday        1        13      2300  2022-12-13 22:53:00     39      49    0.00      69  2253\n",
            "1039  2022-12-16 00:00:00  Mega Millions     40     56     35      8     53  11  December   Friday        4        16      2300  2022-12-16 22:53:00     28      43    0.00      56  2253\n",
            "\n",
            "[1040 rows x 19 columns]\n"
          ]
        }
      ],
      "source": [
        "#Read in and perform a SQL FILTER query on the weather table in the DB. \n",
        "    #The weather table contains hourly readings for a 24 hour period and I only\n",
        "    #want the data that is within 1 hour +- the \"draw_time\".\n",
        "mm_sql_filter = '''SELECT * FROM mm_weather WHERE (Time > 2200 AND Time < 2359)'''\n",
        "\n",
        "#Create a dataframe with the filtered query data.\n",
        "mm_weather_filtered_df = pd.read_sql(mm_sql_filter, conn)\n",
        "\n",
        "#Clean/Transform 1. Set dtype to \"datetime\" for the date columns.\n",
        "                #2. Fill empty cells with 0s.\n",
        "mm_weather_filtered_df['DATE_TIME'] = pd.to_datetime(mm_weather_filtered_df['DATE_TIME'])\n",
        "mm_weather_filtered_df['Date'] = pd.to_datetime(mm_weather_filtered_df['Date'])\n",
        "mm_weather_filtered_df = mm_weather_filtered_df.fillna(0)\n",
        "\n",
        "#Create a new SQLite DB table with the filtered dataframe.\n",
        "mm_weather_filtered_df.to_sql('mm_weather_filtered', conn, if_exists='replace', index = False)\n",
        "\n",
        "#Read in and perform a SQLite GROUP BY query in order to reduce the number of filtered weather\n",
        "    #reports to 1 line.\n",
        "mm_sql_grooper = '''SELECT * FROM mm_weather_filtered GROUP BY Date'''\n",
        "\n",
        "#Create a dataframe with the grouped query data.\n",
        "mm_weather_grouped_df = pd.read_sql(mm_sql_grooper, conn)\n",
        "\n",
        "#Create a new SQLite DB table with the grouped dataframe.\n",
        "mm_weather_grouped_df.to_sql('mm_weather_grouped', conn, if_exists='replace', index = False)\n",
        "\n",
        "#Perform a SQL JOIN on the mm_draw table and the mm_weather_grouped table to combine\n",
        "#all of the data associated with a single matching date in each table.\n",
        "mm_sql_join = '''SELECT * FROM mm_draw JOIN mm_weather_grouped USING (Date)'''\n",
        "\n",
        "#Create a dataframe with the join data.\n",
        "mm_join_df = pd.read_sql(mm_sql_join, conn)\n",
        "\n",
        "#Create a new SQLite DB table with the join dataframe.\n",
        "mm_join_df.to_sql('mm_join', conn, if_exists='replace', index = False)\n",
        "\n",
        "#Print the outputs of the dataframes to confirm changes have been applied.\n",
        "print(mm_weather_filtered_df)\n",
        "print(mm_weather_grouped_df)\n",
        "print(mm_join_df)"
      ]
    },
    {
      "cell_type": "code",
      "execution_count": 13,
      "metadata": {
        "id": "rf1pdLpXeKQN"
      },
      "outputs": [
        {
          "name": "stdout",
          "output_type": "stream",
          "text": [
            "    value  num_1  num_2  num_3  num_4  num_5  mb  totals\n",
            "0      28     44     25     30     36     28  15     163\n",
            "1      48     44     29     35     39     31   1     178\n",
            "2      10     43     32     40     38     28  81     181\n",
            "3      20     42     32     33     42     38  47     187\n",
            "4       9     42     35     26     31     29  83     163\n",
            "..    ...    ...    ...    ...    ...    ...  ..     ...\n",
            "70     69      8     17     11     12     12   0      60\n",
            "71     74      6      6      5      6      7   0      30\n",
            "72     72      4      2      3      5      6   0      20\n",
            "73     71      3      3      6      8      2   0      22\n",
            "74     75      1      3      6      5     10   0      25\n",
            "\n",
            "[75 rows x 8 columns]\n"
          ]
        }
      ],
      "source": [
        "#Count the number of times each value appears in each column.\n",
        "mm_counts_1 = mega_draw_df['num_1'].value_counts()\n",
        "mm_counts_2 = mega_draw_df['num_2'].value_counts()\n",
        "mm_counts_3 = mega_draw_df['num_3'].value_counts()\n",
        "mm_counts_4 = mega_draw_df['num_4'].value_counts()\n",
        "mm_counts_5 = mega_draw_df['num_5'].value_counts()\n",
        "mm_counts_mb = mega_draw_df['mb'].value_counts()\n",
        "\n",
        "#Create a dataframe with columns containing the counts of each value.\n",
        "mm_counts_df = pd.concat([mm_counts_1, mm_counts_2, mm_counts_3, mm_counts_4, mm_counts_5, mm_counts_mb], axis=1)\n",
        "\n",
        "#Fill empty cells with 0s and set dtype \"int\".\n",
        "mm_counts_df['mb'] = mm_counts_df['mb'].fillna(0).astype(int)\n",
        "\n",
        "#Create a list with all of the columns from the mm_counts_df dataframe.\n",
        "col_list= list(mm_counts_df)\n",
        "\n",
        "#Remove the \"mb\" column from the list as it is already totaled and should not be included.\n",
        "col_list.remove('mb')\n",
        "\n",
        "#Create a new column with the sum of the totals of each value in each column minus the \"mb\" column.\n",
        "mm_counts_df['totals'] = mm_counts_df[col_list].sum(axis=1)\n",
        "\n",
        "mm_counts_df.reset_index(inplace=True)\n",
        "mm_counts_df = mm_counts_df.rename(columns = {'index':'value'})\n",
        "\n",
        "#Create a table in the SQLite DB with the count data.\n",
        "mm_counts_df.to_sql('mm_counts', conn, if_exists='replace', index = False)\n",
        "\n",
        "#Print the output to confirm.\n",
        "print(mm_counts_df)\n"
      ]
    },
    {
      "attachments": {},
      "cell_type": "markdown",
      "metadata": {},
      "source": [
        "### The following two code cells meet the third feature requirement:\n",
        "1. Feature 3 - Make a Tableau dashboard to display your data.\n",
        "    - I created a Tableau Dashboard containing bar charts of all of the results from the \"mm_counts\" table with Tableau Public Desktop and then I published it to the Tableau Public site.\n",
        "    - Unfortunately each of the bar charts have verticle sliders which are not interactive in Visual Studio Code but they are in Google Colab.\n",
        "2. Feature 3 - Make a visualization with Bokeh."
      ]
    },
    {
      "cell_type": "code",
      "execution_count": 6,
      "metadata": {
        "colab": {
          "base_uri": "https://localhost:8080/",
          "height": 898
        },
        "id": "FKpaHver-7pI",
        "outputId": "0cfa5c09-66e4-4b8e-e4a5-10de8a5d936c"
      },
      "outputs": [
        {
          "data": {
            "text/html": [
              "<div class='tableauPlaceholder' id='viz1679398882113' style='position: relative'><noscript><a href='#'><img alt='Dashboard 1 ' src='https:&#47;&#47;public.tableau.com&#47;static&#47;images&#47;Me&#47;MegamillionsNumbers&#47;Dashboard1&#47;1_rss.png' style='border: none' /></a></noscript><object class='tableauViz'  style='display:none;'><param name='host_url' value='https%3A%2F%2Fpublic.tableau.com%2F' /> <param name='embed_code_version' value='3' /> <param name='site_root' value='' /><param name='name' value='MegamillionsNumbers&#47;Dashboard1' /><param name='tabs' value='no' /><param name='toolbar' value='yes' /><param name='static_image' value='https:&#47;&#47;public.tableau.com&#47;static&#47;images&#47;Me&#47;MegamillionsNumbers&#47;Dashboard1&#47;1.png' /> <param name='animate_transition' value='yes' /><param name='display_static_image' value='yes' /><param name='display_spinner' value='yes' /><param name='display_overlay' value='yes' /><param name='display_count' value='yes' /><param name='language' value='en-US' /></object></div>                <script type='text/javascript'>                    var divElement = document.getElementById('viz1679398882113');                    var vizElement = divElement.getElementsByTagName('object')[0];                    if ( divElement.offsetWidth > 800 ) { vizElement.style.minWidth='420px';vizElement.style.maxWidth='650px';vizElement.style.width='100%';vizElement.style.minHeight='587px';vizElement.style.maxHeight='887px';vizElement.style.height=(divElement.offsetWidth*0.75)+'px';} else if ( divElement.offsetWidth > 500 ) { vizElement.style.minWidth='420px';vizElement.style.maxWidth='650px';vizElement.style.width='100%';vizElement.style.minHeight='587px';vizElement.style.maxHeight='887px';vizElement.style.height=(divElement.offsetWidth*0.75)+'px';} else { vizElement.style.width='100%';vizElement.style.height='1677px';}                     var scriptElement = document.createElement('script');                    scriptElement.src = 'https://public.tableau.com/javascripts/api/viz_v1.js';                    vizElement.parentNode.insertBefore(scriptElement, vizElement);                </script>\n"
            ],
            "text/plain": [
              "<IPython.core.display.HTML object>"
            ]
          },
          "metadata": {},
          "output_type": "display_data"
        }
      ],
      "source": [
        "%%HTML\n",
        "<div class='tableauPlaceholder' id='viz1679398882113' style='position: relative'><noscript><a href='#'><img alt='Dashboard 1 ' src='https:&#47;&#47;public.tableau.com&#47;static&#47;images&#47;Me&#47;MegamillionsNumbers&#47;Dashboard1&#47;1_rss.png' style='border: none' /></a></noscript><object class='tableauViz'  style='display:none;'><param name='host_url' value='https%3A%2F%2Fpublic.tableau.com%2F' /> <param name='embed_code_version' value='3' /> <param name='site_root' value='' /><param name='name' value='MegamillionsNumbers&#47;Dashboard1' /><param name='tabs' value='no' /><param name='toolbar' value='yes' /><param name='static_image' value='https:&#47;&#47;public.tableau.com&#47;static&#47;images&#47;Me&#47;MegamillionsNumbers&#47;Dashboard1&#47;1.png' /> <param name='animate_transition' value='yes' /><param name='display_static_image' value='yes' /><param name='display_spinner' value='yes' /><param name='display_overlay' value='yes' /><param name='display_count' value='yes' /><param name='language' value='en-US' /></object></div>                <script type='text/javascript'>                    var divElement = document.getElementById('viz1679398882113');                    var vizElement = divElement.getElementsByTagName('object')[0];                    if ( divElement.offsetWidth > 800 ) { vizElement.style.minWidth='420px';vizElement.style.maxWidth='650px';vizElement.style.width='100%';vizElement.style.minHeight='587px';vizElement.style.maxHeight='887px';vizElement.style.height=(divElement.offsetWidth*0.75)+'px';} else if ( divElement.offsetWidth > 500 ) { vizElement.style.minWidth='420px';vizElement.style.maxWidth='650px';vizElement.style.width='100%';vizElement.style.minHeight='587px';vizElement.style.maxHeight='887px';vizElement.style.height=(divElement.offsetWidth*0.75)+'px';} else { vizElement.style.width='100%';vizElement.style.height='1677px';}                     var scriptElement = document.createElement('script');                    scriptElement.src = 'https://public.tableau.com/javascripts/api/viz_v1.js';                    vizElement.parentNode.insertBefore(scriptElement, vizElement);                </script>"
      ]
    },
    {
      "cell_type": "code",
      "execution_count": 29,
      "metadata": {},
      "outputs": [],
      "source": [
        "#Set the display theme.\n",
        "curdoc().theme = 'dark_minimal'\n",
        "\n",
        "# instantiating the figure object \n",
        "graph = figure(title = \"MegaMillion Historical Winning Draw Counts\")\n",
        "\n",
        "#Create the list data.\n",
        "totals = mm_counts_df['totals'].to_list()\n",
        "values = mm_counts_df['value'].to_list()\n",
        "  \n",
        "# the points to be plotted \n",
        "x = values \n",
        "y = totals \n",
        "  \n",
        "# height / thickness of the bars in the plot\n",
        "width = .2\n",
        "  \n",
        "# plotting the verticle bar graph \n",
        "graph.vbar(x, top= y, width= width) \n",
        "  \n",
        "# displaying the model \n",
        "show(graph)"
      ]
    }
  ],
  "metadata": {
    "colab": {
      "include_colab_link": true,
      "provenance": []
    },
    "kernelspec": {
      "display_name": "Python 3.10.6 64-bit",
      "language": "python",
      "name": "python3"
    },
    "language_info": {
      "codemirror_mode": {
        "name": "ipython",
        "version": 3
      },
      "file_extension": ".py",
      "mimetype": "text/x-python",
      "name": "python",
      "nbconvert_exporter": "python",
      "pygments_lexer": "ipython3",
      "version": "3.10.6"
    },
    "orig_nbformat": 4,
    "vscode": {
      "interpreter": {
        "hash": "aee8b7b246df8f9039afb4144a1f6fd8d2ca17a180786b69acc140d282b71a49"
      }
    }
  },
  "nbformat": 4,
  "nbformat_minor": 0
}
