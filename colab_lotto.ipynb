{
  "cells": [
    {
      "attachments": {},
      "cell_type": "markdown",
      "metadata": {},
      "source": [
        "<a href=\"https://colab.research.google.com/github/Mikdown/Lottery-Picker/blob/master/colab_lotto.ipynb\" target=\"_parent\"><img src=\"https://colab.research.google.com/assets/colab-badge.svg\" alt=\"Open In Colab\"/></a>"
      ]
    },
    {
      "attachments": {},
      "cell_type": "markdown",
      "metadata": {},
      "source": [
        "### The following code cell imports the necessary packages, creates the file connection URLs and connects to a SQLite database file (Creates one if it does not exist)."
      ]
    },
    {
      "cell_type": "code",
      "execution_count": 9,
      "metadata": {
        "id": "ciAogFP5eKQJ"
      },
      "outputs": [],
      "source": [
        "import pandas as pd\n",
        "pd.set_option('display.max_columns', 20)\n",
        "pd.set_option('display.width', 1000)\n",
        "import numpy as np\n",
        "import sqlite3\n",
        "from bokeh.io import curdoc, output_notebook\n",
        "from bokeh.plotting import figure, output_file, show\n",
        "mega_draw_file_url = (\"https://raw.githubusercontent.com/Mikdown/Lottery-Picker/master/assets/megamillions.csv\")\n",
        "mega_weather_file_url = (\"https://raw.githubusercontent.com/Mikdown/Lottery-Picker/master/assets/mega_weather.csv\")\n",
        "\n",
        "conn = sqlite3.connect('lottery_data.db')\n",
        "cur = conn.cursor()"
      ]
    },
    {
      "attachments": {},
      "cell_type": "markdown",
      "metadata": {
        "id": "hO-6wKUjeKQK"
      },
      "source": [
        "### The following three code cells meet the first and second feature requirements:\n",
        "1. Feature 1 - Read two data files (CSV).\n",
        "2. Feature 2 - Clean your data.\n",
        "    - Two CSV files are read in from Github and cleaned(transformed) with Pandas. \n",
        "3. Feature 1 - Set up a local database and read data in with SQLite.\n",
        "4. Feature 2 - Perform a SQL join.\n",
        "    - After transformation the files are read into a local SQLite3 DB to be used for futher analysis.\n",
        "    - Data is read in from the database, filtered, grouped and a SQL join is performed on 2 tables."
      ]
    },
    {
      "cell_type": "code",
      "execution_count": 10,
      "metadata": {
        "colab": {
          "base_uri": "https://localhost:8080/"
        },
        "id": "Dhjb2ff4DT_D",
        "outputId": "2c7347cf-6f65-4c28-c0af-3c7e91a42051"
      },
      "outputs": [
        {
          "name": "stdout",
          "output_type": "stream",
          "text": [
            "           Date           game  num_1  num_2  num_3  num_4  num_5  mb     month day_name  day_num  day_date draw_time\n",
            "0    2003-12-05  Mega Millions     12     44     15     18      1  42  December   Friday        4         5      2300\n",
            "1    2003-12-09  Mega Millions     14     15     48      4     24  41  December  Tuesday        1         9      2300\n",
            "2    2003-12-12  Mega Millions     16     32     46      9     45  26  December   Friday        4        12      2300\n",
            "3    2003-12-16  Mega Millions     47     16     31     24     46  47  December  Tuesday        1        16      2300\n",
            "4    2003-12-19  Mega Millions      5     10     39     17     35  38  December   Friday        4        19      2300\n",
            "...         ...            ...    ...    ...    ...    ...    ...  ..       ...      ...      ...       ...       ...\n",
            "2006 2023-02-24  Mega Millions     22     49      2     65     67   7  February   Friday        4        24      2300\n",
            "2007 2023-02-28  Mega Millions     59     52     40     14     16  13  February  Tuesday        1        28      2300\n",
            "2008 2023-03-03  Mega Millions     39      8     67     36     25  11     March   Friday        4         3      2300\n",
            "2009 2023-03-07  Mega Millions     15     69     28     25     22  21     March  Tuesday        1         7      2300\n",
            "2010 2023-03-10  Mega Millions     60      9     20     59     63   5     March   Friday        4        10      2300\n",
            "\n",
            "[2011 rows x 13 columns]\n",
            "                 DATE_TIME DPTemp  DBTemp  Precip  RHumid       Date  Time\n",
            "0      2013-01-01 00:53:00     36      47     0.0      66 2013-01-01  0053\n",
            "1      2013-01-01 01:53:00     36      43     0.0      76 2013-01-01  0153\n",
            "2      2013-01-01 02:51:00     37      45     0.0      76 2013-01-01  0251\n",
            "3      2013-01-01 02:53:00     37      44     0.0      76 2013-01-01  0253\n",
            "4      2013-01-01 03:53:00     38      45     0.0      77 2013-01-01  0353\n",
            "...                    ...    ...     ...     ...     ...        ...   ...\n",
            "115441 2022-12-16 22:53:00     28      43     0.0      56 2022-12-16  2253\n",
            "115442 2022-12-16 23:53:00     27      44     0.0      51 2022-12-16  2353\n",
            "115443 2022-12-16 23:59:00    NaN       0     0.0       0 2022-12-16  2359\n",
            "115444 2022-12-17 00:53:00     28      45     0.0      52 2022-12-17  0053\n",
            "115445 2022-12-17 01:53:00     28      45     0.0      52 2022-12-17  0153\n",
            "\n",
            "[115446 rows x 7 columns]\n"
          ]
        }
      ],
      "source": [
        "#Create the variables for file reads.\n",
        "mega_draw_file = (mega_draw_file_url)\n",
        "mega_weather_file = (mega_weather_file_url)\n",
        "\n",
        "#Read in data from two CSV files.\n",
        "mega_draw_df = pd.read_csv(mega_draw_file, engine='python', parse_dates= {\"draw_date\" : [\"year\",\"month\",\"day\"]})\n",
        "mega_weather_df = pd.read_csv(mega_weather_file, engine='python')\n",
        "\n",
        "#Split the \"DATE_TIME\" column into 2 seperate columns \"Date\" and \"Time\".\n",
        "mega_weather_df['Date'] = pd.to_datetime(mega_weather_df['DATE_TIME']).dt.strftime('%Y%m%d')\n",
        "mega_weather_df['Time'] = pd.to_datetime(mega_weather_df['DATE_TIME']).dt.strftime('%H%M')\n",
        "\n",
        "#Set the dtype to \"datetime\" for the two date columns.\n",
        "mega_weather_df['Date'] = pd.to_datetime(mega_weather_df['Date'])\n",
        "mega_weather_df['DATE_TIME'] = pd.to_datetime(mega_weather_df['DATE_TIME'])\n",
        "\n",
        "#Clean/Transform - 1. Rename column, \n",
        "                  #2. Format date string, \n",
        "                  #3. Set dtype to \"datetime\", \n",
        "                  #4. Create 4 new columns from the \"Date\" column. \n",
        "                  #5. Set dtype to \"int\" for the number columns.\n",
        "mega_draw_df.rename({'draw_date': 'Date'}, axis=1, inplace=True)\n",
        "mega_draw_df['Date'] = pd.to_datetime(mega_draw_df['Date']).dt.strftime('%Y%m%d')\n",
        "mega_draw_df['Date'] = pd.to_datetime(mega_draw_df['Date'])\n",
        "mega_draw_df['month'] = pd.DatetimeIndex(mega_draw_df['Date']).month_name()\n",
        "mega_draw_df['day_name'] = pd.DatetimeIndex(mega_draw_df['Date']).day_name()\n",
        "mega_draw_df['day_num'] = pd.DatetimeIndex(mega_draw_df['Date']).dayofweek\n",
        "mega_draw_df['day_date'] = pd.DatetimeIndex(mega_draw_df['Date']).day\n",
        "mega_draw_df['draw_time'] = '2300'\n",
        "mega_draw_df[['num_1', 'num_2', 'num_3', 'num_4', 'num_5', 'mb']] = mega_draw_df[['num_1', 'num_2', 'num_3', 'num_4', 'num_5', 'mb']].astype(int)\n",
        "\n",
        "#Create two new tables in the SQLite DB file.\n",
        "mega_draw_df.to_sql('mm_draw', conn, if_exists='replace', index = False)\n",
        "mega_weather_df.to_sql('mm_weather', conn, if_exists='replace', index = False)\n",
        "\n",
        "#Print the outputs of the dataframes to confirm changes have been applied.\n",
        "print(mega_draw_df)\n",
        "print(mega_weather_df)"
      ]
    },
    {
      "cell_type": "code",
      "execution_count": 11,
      "metadata": {
        "colab": {
          "base_uri": "https://localhost:8080/"
        },
        "id": "iLMXBtZJnKOf",
        "outputId": "b26c8cb5-8c87-47d5-bf18-74a2966ca595"
      },
      "outputs": [
        {
          "name": "stdout",
          "output_type": "stream",
          "text": [
            "               DATE_TIME DPTemp  DBTemp  Precip  RHumid       Date  Time\n",
            "0    2013-01-01 22:53:00     50      51    0.06      96 2013-01-01  2253\n",
            "1    2013-01-01 23:53:00     50      51    0.07      96 2013-01-01  2353\n",
            "2    2013-01-02 22:53:00     35      40    0.00      83 2013-01-02  2253\n",
            "3    2013-01-02 23:53:00     36      39    0.00      89 2013-01-02  2353\n",
            "4    2013-01-03 22:53:00     27      36    0.00      70 2013-01-03  2253\n",
            "...                  ...    ...     ...     ...     ...        ...   ...\n",
            "8981 2022-12-14 23:53:00     46      48    0.16      93 2022-12-14  2353\n",
            "8982 2022-12-15 22:53:00     32      44    0.00      63 2022-12-15  2253\n",
            "8983 2022-12-15 23:53:00     32      44    0.00      63 2022-12-15  2353\n",
            "8984 2022-12-16 22:53:00     28      43    0.00      56 2022-12-16  2253\n",
            "8985 2022-12-16 23:53:00     27      44    0.00      51 2022-12-16  2353\n",
            "\n",
            "[8986 rows x 7 columns]\n",
            "                DATE_TIME DPTemp  DBTemp  Precip  RHumid                 Date  Time\n",
            "0     2013-01-01 22:53:00     50      51    0.06      96  2013-01-01 00:00:00  2253\n",
            "1     2013-01-02 22:53:00     35      40    0.00      83  2013-01-02 00:00:00  2253\n",
            "2     2013-01-03 22:53:00     27      36    0.00      70  2013-01-03 00:00:00  2253\n",
            "3     2013-01-04 22:53:00     25      30    0.00      82  2013-01-04 00:00:00  2253\n",
            "4     2013-01-05 22:53:00     38      43    0.00      82  2013-01-05 00:00:00  2253\n",
            "...                   ...    ...     ...     ...     ...                  ...   ...\n",
            "3632  2022-12-12 22:53:00     50      54    0.00      87  2022-12-12 00:00:00  2253\n",
            "3633  2022-12-13 22:53:00     39      49    0.00      69  2022-12-13 00:00:00  2253\n",
            "3634  2022-12-14 22:21:00     46      47    0.11      97  2022-12-14 00:00:00  2221\n",
            "3635  2022-12-15 22:53:00     32      44    0.00      63  2022-12-15 00:00:00  2253\n",
            "3636  2022-12-16 22:53:00     28      43    0.00      56  2022-12-16 00:00:00  2253\n",
            "\n",
            "[3637 rows x 7 columns]\n",
            "                     Date           game  num_1  num_2  num_3  num_4  num_5  mb     month day_name  day_num  day_date draw_time            DATE_TIME DPTemp  DBTemp  Precip  RHumid  Time\n",
            "0     2013-01-01 00:00:00  Mega Millions     11     21      4     44     25  29   January  Tuesday        1         1      2300  2013-01-01 22:53:00     50      51    0.06      96  2253\n",
            "1     2013-01-04 00:00:00  Mega Millions      2     23     55     25      1  39   January   Friday        4         4      2300  2013-01-04 22:53:00     25      30    0.00      82  2253\n",
            "2     2013-01-08 00:00:00  Mega Millions      3     38     20     21     42  19   January  Tuesday        1         8      2300  2013-01-08 22:53:00     40      50    0.00      68  2253\n",
            "3     2013-01-11 00:00:00  Mega Millions     29     56     24     34     30   1   January   Friday        4        11      2300  2013-01-11 22:53:00     60      61    0.00      97  2253\n",
            "4     2013-01-15 00:00:00  Mega Millions     19      1     41     12      6  14   January  Tuesday        1        15      2300  2013-01-15 22:51:00     55      57    0.00      94  2251\n",
            "...                   ...            ...    ...    ...    ...    ...    ...  ..       ...      ...      ...       ...       ...                  ...    ...     ...     ...     ...   ...\n",
            "1035  2022-12-02 00:00:00  Mega Millions     52     46     21      1     36  16  December   Friday        4         2      2300  2022-12-02 22:53:00     44      54    0.00      69  2253\n",
            "1036  2022-12-06 00:00:00  Mega Millions     28     19     16     15     47  13  December  Tuesday        1         6      2300  2022-12-06 22:51:00     54      54    0.00     100  2251\n",
            "1037  2022-12-09 00:00:00  Mega Millions     61     19      8     53     69  19  December   Friday        4         9      2300  2022-12-09 22:53:00     56      57    0.00      96  2253\n",
            "1038  2022-12-13 00:00:00  Mega Millions     48     58     14     68     22   6  December  Tuesday        1        13      2300  2022-12-13 22:53:00     39      49    0.00      69  2253\n",
            "1039  2022-12-16 00:00:00  Mega Millions     40     56     35      8     53  11  December   Friday        4        16      2300  2022-12-16 22:53:00     28      43    0.00      56  2253\n",
            "\n",
            "[1040 rows x 19 columns]\n"
          ]
        }
      ],
      "source": [
        "#Read in and perform a SQL FILTER query on the weather table in the DB. \n",
        "    #The weather table contains hourly readings for a 24 hour period and I only\n",
        "    #want the data that is within 1 hour +- the \"draw_time\".\n",
        "mm_sql_filter = '''SELECT * FROM mm_weather WHERE (Time > 2200 AND Time < 2359)'''\n",
        "\n",
        "#Create a dataframe with the filtered query data.\n",
        "mm_weather_filtered_df = pd.read_sql(mm_sql_filter, conn)\n",
        "\n",
        "#Clean/Transform 1. Set dtype to \"datetime\" for the date columns.\n",
        "                #2. Fill empty cells with 0s.\n",
        "mm_weather_filtered_df['DATE_TIME'] = pd.to_datetime(mm_weather_filtered_df['DATE_TIME'])\n",
        "mm_weather_filtered_df['Date'] = pd.to_datetime(mm_weather_filtered_df['Date'])\n",
        "mm_weather_filtered_df = mm_weather_filtered_df.fillna(0)\n",
        "\n",
        "#Create a new SQLite DB table with the filtered dataframe.\n",
        "mm_weather_filtered_df.to_sql('mm_weather_filtered', conn, if_exists='replace', index = False)\n",
        "\n",
        "#Read in and perform a SQLite GROUP BY query in order to reduce the number of filtered weather\n",
        "    #reports to 1 line.\n",
        "mm_sql_grooper = '''SELECT * FROM mm_weather_filtered GROUP BY Date'''\n",
        "\n",
        "#Create a dataframe with the grouped query data.\n",
        "mm_weather_grouped_df = pd.read_sql(mm_sql_grooper, conn)\n",
        "\n",
        "#Create a new SQLite DB table with the grouped dataframe.\n",
        "mm_weather_grouped_df.to_sql('mm_weather_grouped', conn, if_exists='replace', index = False)\n",
        "\n",
        "#Perform a SQL JOIN on the mm_draw table and the mm_weather_grouped table to combine\n",
        "#all of the data associated with a single matching date in each table.\n",
        "mm_sql_join = '''SELECT * FROM mm_draw JOIN mm_weather_grouped USING (Date)'''\n",
        "\n",
        "#Create a dataframe with the join data.\n",
        "mm_join_df = pd.read_sql(mm_sql_join, conn)\n",
        "\n",
        "#Create a new SQLite DB table with the join dataframe.\n",
        "mm_join_df.to_sql('mm_join', conn, if_exists='replace', index = False)\n",
        "\n",
        "#Print the outputs of the dataframes to confirm changes have been applied.\n",
        "print(mm_weather_filtered_df)\n",
        "print(mm_weather_grouped_df)\n",
        "print(mm_join_df)"
      ]
    },
    {
      "cell_type": "code",
      "execution_count": 12,
      "metadata": {
        "id": "rf1pdLpXeKQN"
      },
      "outputs": [
        {
          "name": "stdout",
          "output_type": "stream",
          "text": [
            "    value  num_1  num_2  num_3  num_4  num_5  mb  totals\n",
            "0      28     44     25     30     36     28  15     163\n",
            "1      48     44     29     35     39     31   1     178\n",
            "2      10     43     32     40     38     28  81     181\n",
            "3      20     42     32     33     42     38  47     187\n",
            "4       9     42     35     26     31     29  83     163\n",
            "..    ...    ...    ...    ...    ...    ...  ..     ...\n",
            "70     69      8     17     11     12     12   0      60\n",
            "71     74      6      6      5      6      7   0      30\n",
            "72     72      4      2      3      5      6   0      20\n",
            "73     71      3      3      6      8      2   0      22\n",
            "74     75      1      3      6      5     10   0      25\n",
            "\n",
            "[75 rows x 8 columns]\n"
          ]
        }
      ],
      "source": [
        "#Count the number of times each value appears in each column.\n",
        "mm_counts_1 = mega_draw_df['num_1'].value_counts()\n",
        "mm_counts_2 = mega_draw_df['num_2'].value_counts()\n",
        "mm_counts_3 = mega_draw_df['num_3'].value_counts()\n",
        "mm_counts_4 = mega_draw_df['num_4'].value_counts()\n",
        "mm_counts_5 = mega_draw_df['num_5'].value_counts()\n",
        "mm_counts_mb = mega_draw_df['mb'].value_counts()\n",
        "\n",
        "#Create a dataframe with columns containing the counts of each value.\n",
        "mm_counts_df = pd.concat([mm_counts_1, mm_counts_2, mm_counts_3, mm_counts_4, mm_counts_5, mm_counts_mb], axis=1)\n",
        "\n",
        "#Fill empty cells with 0s and set dtype \"int\".\n",
        "mm_counts_df['mb'] = mm_counts_df['mb'].fillna(0).astype(int)\n",
        "\n",
        "#Create a list with all of the columns from the mm_counts_df dataframe.\n",
        "col_list= list(mm_counts_df)\n",
        "\n",
        "#Remove the \"mb\" column from the list as it is already totaled and should not be included.\n",
        "col_list.remove('mb')\n",
        "\n",
        "#Create a new column with the sum of the totals of each value in each column minus the \"mb\" column.\n",
        "mm_counts_df['totals'] = mm_counts_df[col_list].sum(axis=1)\n",
        "\n",
        "mm_counts_df.reset_index(inplace=True)\n",
        "mm_counts_df = mm_counts_df.rename(columns = {'index':'value'})\n",
        "\n",
        "#Create a table in the SQLite DB with the count data.\n",
        "mm_counts_df.to_sql('mm_counts', conn, if_exists='replace', index = False)\n",
        "\n",
        "#Print the output to confirm.\n",
        "print(mm_counts_df)\n"
      ]
    },
    {
      "attachments": {},
      "cell_type": "markdown",
      "metadata": {},
      "source": [
        "### The following two code cells meet the third feature requirement:\n",
        "1. Feature 3 - Make a Tableau dashboard to display your data.\n",
        "    - I created a Tableau Dashboard containing bar charts of all of the results from the \"mm_counts\" table with Tableau Public Desktop and then I published it to the Tableau Public site.\n",
        "    - Unfortunately each of the bar charts have verticle sliders which are not interactive in Visual Studio Code but they are in Google Colab.\n",
        "2. Feature 3 - Make a visualization with Bokeh."
      ]
    },
    {
      "cell_type": "code",
      "execution_count": 13,
      "metadata": {
        "colab": {
          "base_uri": "https://localhost:8080/",
          "height": 898
        },
        "id": "FKpaHver-7pI",
        "outputId": "0cfa5c09-66e4-4b8e-e4a5-10de8a5d936c"
      },
      "outputs": [
        {
          "data": {
            "text/html": [
              "<div class='tableauPlaceholder' id='viz1679398882113' style='position: relative'><noscript><a href='#'><img alt='Dashboard 1 ' src='https:&#47;&#47;public.tableau.com&#47;static&#47;images&#47;Me&#47;MegamillionsNumbers&#47;Dashboard1&#47;1_rss.png' style='border: none' /></a></noscript><object class='tableauViz'  style='display:none;'><param name='host_url' value='https%3A%2F%2Fpublic.tableau.com%2F' /> <param name='embed_code_version' value='3' /> <param name='site_root' value='' /><param name='name' value='MegamillionsNumbers&#47;Dashboard1' /><param name='tabs' value='no' /><param name='toolbar' value='yes' /><param name='static_image' value='https:&#47;&#47;public.tableau.com&#47;static&#47;images&#47;Me&#47;MegamillionsNumbers&#47;Dashboard1&#47;1.png' /> <param name='animate_transition' value='yes' /><param name='display_static_image' value='yes' /><param name='display_spinner' value='yes' /><param name='display_overlay' value='yes' /><param name='display_count' value='yes' /><param name='language' value='en-US' /></object></div>                <script type='text/javascript'>                    var divElement = document.getElementById('viz1679398882113');                    var vizElement = divElement.getElementsByTagName('object')[0];                    if ( divElement.offsetWidth > 800 ) { vizElement.style.minWidth='420px';vizElement.style.maxWidth='650px';vizElement.style.width='100%';vizElement.style.minHeight='587px';vizElement.style.maxHeight='887px';vizElement.style.height=(divElement.offsetWidth*0.75)+'px';} else if ( divElement.offsetWidth > 500 ) { vizElement.style.minWidth='420px';vizElement.style.maxWidth='650px';vizElement.style.width='100%';vizElement.style.minHeight='587px';vizElement.style.maxHeight='887px';vizElement.style.height=(divElement.offsetWidth*0.75)+'px';} else { vizElement.style.width='100%';vizElement.style.height='1677px';}                     var scriptElement = document.createElement('script');                    scriptElement.src = 'https://public.tableau.com/javascripts/api/viz_v1.js';                    vizElement.parentNode.insertBefore(scriptElement, vizElement);                </script>\n"
            ],
            "text/plain": [
              "<IPython.core.display.HTML object>"
            ]
          },
          "metadata": {},
          "output_type": "display_data"
        }
      ],
      "source": [
        "%%HTML\n",
        "<div class='tableauPlaceholder' id='viz1679398882113' style='position: relative'><noscript><a href='#'><img alt='Dashboard 1 ' src='https:&#47;&#47;public.tableau.com&#47;static&#47;images&#47;Me&#47;MegamillionsNumbers&#47;Dashboard1&#47;1_rss.png' style='border: none' /></a></noscript><object class='tableauViz'  style='display:none;'><param name='host_url' value='https%3A%2F%2Fpublic.tableau.com%2F' /> <param name='embed_code_version' value='3' /> <param name='site_root' value='' /><param name='name' value='MegamillionsNumbers&#47;Dashboard1' /><param name='tabs' value='no' /><param name='toolbar' value='yes' /><param name='static_image' value='https:&#47;&#47;public.tableau.com&#47;static&#47;images&#47;Me&#47;MegamillionsNumbers&#47;Dashboard1&#47;1.png' /> <param name='animate_transition' value='yes' /><param name='display_static_image' value='yes' /><param name='display_spinner' value='yes' /><param name='display_overlay' value='yes' /><param name='display_count' value='yes' /><param name='language' value='en-US' /></object></div>                <script type='text/javascript'>                    var divElement = document.getElementById('viz1679398882113');                    var vizElement = divElement.getElementsByTagName('object')[0];                    if ( divElement.offsetWidth > 800 ) { vizElement.style.minWidth='420px';vizElement.style.maxWidth='650px';vizElement.style.width='100%';vizElement.style.minHeight='587px';vizElement.style.maxHeight='887px';vizElement.style.height=(divElement.offsetWidth*0.75)+'px';} else if ( divElement.offsetWidth > 500 ) { vizElement.style.minWidth='420px';vizElement.style.maxWidth='650px';vizElement.style.width='100%';vizElement.style.minHeight='587px';vizElement.style.maxHeight='887px';vizElement.style.height=(divElement.offsetWidth*0.75)+'px';} else { vizElement.style.width='100%';vizElement.style.height='1677px';}                     var scriptElement = document.createElement('script');                    scriptElement.src = 'https://public.tableau.com/javascripts/api/viz_v1.js';                    vizElement.parentNode.insertBefore(scriptElement, vizElement);                </script>"
      ]
    },
    {
      "cell_type": "code",
      "execution_count": 37,
      "metadata": {},
      "outputs": [
        {
          "data": {
            "text/html": [
              "<style>\n",
              "        .bk-notebook-logo {\n",
              "            display: block;\n",
              "            width: 20px;\n",
              "            height: 20px;\n",
              "            background-image: url(data:image/png;base64,iVBORw0KGgoAAAANSUhEUgAAABQAAAAUCAYAAACNiR0NAAAABHNCSVQICAgIfAhkiAAAAAlwSFlzAAALEgAACxIB0t1+/AAAABx0RVh0U29mdHdhcmUAQWRvYmUgRmlyZXdvcmtzIENTNui8sowAAAOkSURBVDiNjZRtaJVlGMd/1/08zzln5zjP1LWcU9N0NkN8m2CYjpgQYQXqSs0I84OLIC0hkEKoPtiH3gmKoiJDU7QpLgoLjLIQCpEsNJ1vqUOdO7ppbuec5+V+rj4ctwzd8IIbbi6u+8f1539dt3A78eXC7QizUF7gyV1fD1Yqg4JWz84yffhm0qkFqBogB9rM8tZdtwVsPUhWhGcFJngGeWrPzHm5oaMmkfEg1usvLFyc8jLRqDOMru7AyC8saQr7GG7f5fvDeH7Ej8CM66nIF+8yngt6HWaKh7k49Soy9nXurCi1o3qUbS3zWfrYeQDTB/Qj6kX6Ybhw4B+bOYoLKCC9H3Nu/leUTZ1JdRWkkn2ldcCamzrcf47KKXdAJllSlxAOkRgyHsGC/zRday5Qld9DyoM4/q/rUoy/CXh3jzOu3bHUVZeU+DEn8FInkPBFlu3+nW3Nw0mk6vCDiWg8CeJaxEwuHS3+z5RgY+YBR6V1Z1nxSOfoaPa4LASWxxdNp+VWTk7+4vzaou8v8PN+xo+KY2xsw6une2frhw05CTYOmQvsEhjhWjn0bmXPjpE1+kplmmkP3suftwTubK9Vq22qKmrBhpY4jvd5afdRA3wGjFAgcnTK2s4hY0/GPNIb0nErGMCRxWOOX64Z8RAC4oCXdklmEvcL8o0BfkNK4lUg9HTl+oPlQxdNo3Mg4Nv175e/1LDGzZen30MEjRUtmXSfiTVu1kK8W4txyV6BMKlbgk3lMwYCiusNy9fVfvvwMxv8Ynl6vxoByANLTWplvuj/nF9m2+PDtt1eiHPBr1oIfhCChQMBw6Aw0UulqTKZdfVvfG7VcfIqLG9bcldL/+pdWTLxLUy8Qq38heUIjh4XlzZxzQm19lLFlr8vdQ97rjZVOLf8nclzckbcD4wxXMidpX30sFd37Fv/GtwwhzhxGVAprjbg0gCAEeIgwCZyTV2Z1REEW8O4py0wsjeloKoMr6iCY6dP92H6Vw/oTyICIthibxjm/DfN9lVz8IqtqKYLUXfoKVMVQVVJOElGjrnnUt9T9wbgp8AyYKaGlqingHZU/uG2NTZSVqwHQTWkx9hxjkpWDaCg6Ckj5qebgBVbT3V3NNXMSiWSDdGV3hrtzla7J+duwPOToIg42ChPQOQjspnSlp1V+Gjdged7+8UN5CRAV7a5EdFNwCjEaBR27b3W890TE7g24NAP/mMDXRWrGoFPQI9ls/MWO2dWFAar/xcOIImbbpA3zgAAAABJRU5ErkJggg==);\n",
              "        }\n",
              "    </style>\n",
              "    <div>\n",
              "        <a href=\"https://bokeh.org\" target=\"_blank\" class=\"bk-notebook-logo\"></a>\n",
              "        <span id=\"p3075\">Loading BokehJS ...</span>\n",
              "    </div>\n"
            ]
          },
          "metadata": {},
          "output_type": "display_data"
        },
        {
          "data": {
            "application/javascript": "(function(root) {\n  function now() {\n    return new Date();\n  }\n\n  const force = true;\n\n  if (typeof root._bokeh_onload_callbacks === \"undefined\" || force === true) {\n    root._bokeh_onload_callbacks = [];\n    root._bokeh_is_loading = undefined;\n  }\n\nconst JS_MIME_TYPE = 'application/javascript';\n  const HTML_MIME_TYPE = 'text/html';\n  const EXEC_MIME_TYPE = 'application/vnd.bokehjs_exec.v0+json';\n  const CLASS_NAME = 'output_bokeh rendered_html';\n\n  /**\n   * Render data to the DOM node\n   */\n  function render(props, node) {\n    const script = document.createElement(\"script\");\n    node.appendChild(script);\n  }\n\n  /**\n   * Handle when an output is cleared or removed\n   */\n  function handleClearOutput(event, handle) {\n    const cell = handle.cell;\n\n    const id = cell.output_area._bokeh_element_id;\n    const server_id = cell.output_area._bokeh_server_id;\n    // Clean up Bokeh references\n    if (id != null && id in Bokeh.index) {\n      Bokeh.index[id].model.document.clear();\n      delete Bokeh.index[id];\n    }\n\n    if (server_id !== undefined) {\n      // Clean up Bokeh references\n      const cmd_clean = \"from bokeh.io.state import curstate; print(curstate().uuid_to_server['\" + server_id + \"'].get_sessions()[0].document.roots[0]._id)\";\n      cell.notebook.kernel.execute(cmd_clean, {\n        iopub: {\n          output: function(msg) {\n            const id = msg.content.text.trim();\n            if (id in Bokeh.index) {\n              Bokeh.index[id].model.document.clear();\n              delete Bokeh.index[id];\n            }\n          }\n        }\n      });\n      // Destroy server and session\n      const cmd_destroy = \"import bokeh.io.notebook as ion; ion.destroy_server('\" + server_id + \"')\";\n      cell.notebook.kernel.execute(cmd_destroy);\n    }\n  }\n\n  /**\n   * Handle when a new output is added\n   */\n  function handleAddOutput(event, handle) {\n    const output_area = handle.output_area;\n    const output = handle.output;\n\n    // limit handleAddOutput to display_data with EXEC_MIME_TYPE content only\n    if ((output.output_type != \"display_data\") || (!Object.prototype.hasOwnProperty.call(output.data, EXEC_MIME_TYPE))) {\n      return\n    }\n\n    const toinsert = output_area.element.find(\".\" + CLASS_NAME.split(' ')[0]);\n\n    if (output.metadata[EXEC_MIME_TYPE][\"id\"] !== undefined) {\n      toinsert[toinsert.length - 1].firstChild.textContent = output.data[JS_MIME_TYPE];\n      // store reference to embed id on output_area\n      output_area._bokeh_element_id = output.metadata[EXEC_MIME_TYPE][\"id\"];\n    }\n    if (output.metadata[EXEC_MIME_TYPE][\"server_id\"] !== undefined) {\n      const bk_div = document.createElement(\"div\");\n      bk_div.innerHTML = output.data[HTML_MIME_TYPE];\n      const script_attrs = bk_div.children[0].attributes;\n      for (let i = 0; i < script_attrs.length; i++) {\n        toinsert[toinsert.length - 1].firstChild.setAttribute(script_attrs[i].name, script_attrs[i].value);\n        toinsert[toinsert.length - 1].firstChild.textContent = bk_div.children[0].textContent\n      }\n      // store reference to server id on output_area\n      output_area._bokeh_server_id = output.metadata[EXEC_MIME_TYPE][\"server_id\"];\n    }\n  }\n\n  function register_renderer(events, OutputArea) {\n\n    function append_mime(data, metadata, element) {\n      // create a DOM node to render to\n      const toinsert = this.create_output_subarea(\n        metadata,\n        CLASS_NAME,\n        EXEC_MIME_TYPE\n      );\n      this.keyboard_manager.register_events(toinsert);\n      // Render to node\n      const props = {data: data, metadata: metadata[EXEC_MIME_TYPE]};\n      render(props, toinsert[toinsert.length - 1]);\n      element.append(toinsert);\n      return toinsert\n    }\n\n    /* Handle when an output is cleared or removed */\n    events.on('clear_output.CodeCell', handleClearOutput);\n    events.on('delete.Cell', handleClearOutput);\n\n    /* Handle when a new output is added */\n    events.on('output_added.OutputArea', handleAddOutput);\n\n    /**\n     * Register the mime type and append_mime function with output_area\n     */\n    OutputArea.prototype.register_mime_type(EXEC_MIME_TYPE, append_mime, {\n      /* Is output safe? */\n      safe: true,\n      /* Index of renderer in `output_area.display_order` */\n      index: 0\n    });\n  }\n\n  // register the mime type if in Jupyter Notebook environment and previously unregistered\n  if (root.Jupyter !== undefined) {\n    const events = require('base/js/events');\n    const OutputArea = require('notebook/js/outputarea').OutputArea;\n\n    if (OutputArea.prototype.mime_types().indexOf(EXEC_MIME_TYPE) == -1) {\n      register_renderer(events, OutputArea);\n    }\n  }\n  if (typeof (root._bokeh_timeout) === \"undefined\" || force === true) {\n    root._bokeh_timeout = Date.now() + 5000;\n    root._bokeh_failed_load = false;\n  }\n\n  const NB_LOAD_WARNING = {'data': {'text/html':\n     \"<div style='background-color: #fdd'>\\n\"+\n     \"<p>\\n\"+\n     \"BokehJS does not appear to have successfully loaded. If loading BokehJS from CDN, this \\n\"+\n     \"may be due to a slow or bad network connection. Possible fixes:\\n\"+\n     \"</p>\\n\"+\n     \"<ul>\\n\"+\n     \"<li>re-rerun `output_notebook()` to attempt to load from CDN again, or</li>\\n\"+\n     \"<li>use INLINE resources instead, as so:</li>\\n\"+\n     \"</ul>\\n\"+\n     \"<code>\\n\"+\n     \"from bokeh.resources import INLINE\\n\"+\n     \"output_notebook(resources=INLINE)\\n\"+\n     \"</code>\\n\"+\n     \"</div>\"}};\n\n  function display_loaded() {\n    const el = document.getElementById(\"p3075\");\n    if (el != null) {\n      el.textContent = \"BokehJS is loading...\";\n    }\n    if (root.Bokeh !== undefined) {\n      if (el != null) {\n        el.textContent = \"BokehJS \" + root.Bokeh.version + \" successfully loaded.\";\n      }\n    } else if (Date.now() < root._bokeh_timeout) {\n      setTimeout(display_loaded, 100)\n    }\n  }\n\n  function run_callbacks() {\n    try {\n      root._bokeh_onload_callbacks.forEach(function(callback) {\n        if (callback != null)\n          callback();\n      });\n    } finally {\n      delete root._bokeh_onload_callbacks\n    }\n    console.debug(\"Bokeh: all callbacks have finished\");\n  }\n\n  function load_libs(css_urls, js_urls, callback) {\n    if (css_urls == null) css_urls = [];\n    if (js_urls == null) js_urls = [];\n\n    root._bokeh_onload_callbacks.push(callback);\n    if (root._bokeh_is_loading > 0) {\n      console.debug(\"Bokeh: BokehJS is being loaded, scheduling callback at\", now());\n      return null;\n    }\n    if (js_urls == null || js_urls.length === 0) {\n      run_callbacks();\n      return null;\n    }\n    console.debug(\"Bokeh: BokehJS not loaded, scheduling load and callback at\", now());\n    root._bokeh_is_loading = css_urls.length + js_urls.length;\n\n    function on_load() {\n      root._bokeh_is_loading--;\n      if (root._bokeh_is_loading === 0) {\n        console.debug(\"Bokeh: all BokehJS libraries/stylesheets loaded\");\n        run_callbacks()\n      }\n    }\n\n    function on_error(url) {\n      console.error(\"failed to load \" + url);\n    }\n\n    for (let i = 0; i < css_urls.length; i++) {\n      const url = css_urls[i];\n      const element = document.createElement(\"link\");\n      element.onload = on_load;\n      element.onerror = on_error.bind(null, url);\n      element.rel = \"stylesheet\";\n      element.type = \"text/css\";\n      element.href = url;\n      console.debug(\"Bokeh: injecting link tag for BokehJS stylesheet: \", url);\n      document.body.appendChild(element);\n    }\n\n    for (let i = 0; i < js_urls.length; i++) {\n      const url = js_urls[i];\n      const element = document.createElement('script');\n      element.onload = on_load;\n      element.onerror = on_error.bind(null, url);\n      element.async = false;\n      element.src = url;\n      console.debug(\"Bokeh: injecting script tag for BokehJS library: \", url);\n      document.head.appendChild(element);\n    }\n  };\n\n  function inject_raw_css(css) {\n    const element = document.createElement(\"style\");\n    element.appendChild(document.createTextNode(css));\n    document.body.appendChild(element);\n  }\n\n  const js_urls = [\"https://cdn.bokeh.org/bokeh/release/bokeh-3.1.0.min.js\", \"https://cdn.bokeh.org/bokeh/release/bokeh-gl-3.1.0.min.js\", \"https://cdn.bokeh.org/bokeh/release/bokeh-widgets-3.1.0.min.js\", \"https://cdn.bokeh.org/bokeh/release/bokeh-tables-3.1.0.min.js\", \"https://cdn.bokeh.org/bokeh/release/bokeh-mathjax-3.1.0.min.js\"];\n  const css_urls = [];\n\n  const inline_js = [    function(Bokeh) {\n      Bokeh.set_log_level(\"info\");\n    },\nfunction(Bokeh) {\n    }\n  ];\n\n  function run_inline_js() {\n    if (root.Bokeh !== undefined || force === true) {\n          for (let i = 0; i < inline_js.length; i++) {\n      inline_js[i].call(root, root.Bokeh);\n    }\nif (force === true) {\n        display_loaded();\n      }} else if (Date.now() < root._bokeh_timeout) {\n      setTimeout(run_inline_js, 100);\n    } else if (!root._bokeh_failed_load) {\n      console.log(\"Bokeh: BokehJS failed to load within specified timeout.\");\n      root._bokeh_failed_load = true;\n    } else if (force !== true) {\n      const cell = $(document.getElementById(\"p3075\")).parents('.cell').data().cell;\n      cell.output_area.append_execute_result(NB_LOAD_WARNING)\n    }\n  }\n\n  if (root._bokeh_is_loading === 0) {\n    console.debug(\"Bokeh: BokehJS loaded, going straight to plotting\");\n    run_inline_js();\n  } else {\n    load_libs(css_urls, js_urls, function() {\n      console.debug(\"Bokeh: BokehJS plotting callback run at\", now());\n      run_inline_js();\n    });\n  }\n}(window));",
            "application/vnd.bokehjs_load.v0+json": ""
          },
          "metadata": {},
          "output_type": "display_data"
        },
        {
          "data": {
            "text/html": [
              "\n",
              "  <div id=\"e894efe2-6989-4570-a724-a457cb9043ba\" data-root-id=\"p3076\" style=\"display: contents;\"></div>\n"
            ]
          },
          "metadata": {},
          "output_type": "display_data"
        },
        {
          "data": {
            "application/javascript": "(function(root) {\n  function embed_document(root) {\n  const docs_json = {\"e3378991-076c-44bf-9544-d344bbad7422\":{\"version\":\"3.1.0\",\"title\":\"Bokeh Application\",\"defs\":[],\"roots\":[{\"type\":\"object\",\"name\":\"Figure\",\"id\":\"p3076\",\"attributes\":{\"width\":1200,\"x_range\":{\"type\":\"object\",\"name\":\"Range1d\",\"id\":\"p3086\",\"attributes\":{\"start\":1,\"end\":76}},\"y_range\":{\"type\":\"object\",\"name\":\"DataRange1d\",\"id\":\"p3078\",\"attributes\":{\"start\":1}},\"x_scale\":{\"type\":\"object\",\"name\":\"LinearScale\",\"id\":\"p3090\"},\"y_scale\":{\"type\":\"object\",\"name\":\"LinearScale\",\"id\":\"p3092\"},\"title\":{\"type\":\"object\",\"name\":\"Title\",\"id\":\"p3079\",\"attributes\":{\"text\":\"MegaMillion Historical Winning Draw Counts\",\"text_color\":\"#E0E0E0\",\"text_font\":\"Helvetica\",\"text_font_size\":\"1.15em\"}},\"outline_line_color\":\"#E0E0E0\",\"outline_line_alpha\":0.25,\"renderers\":[{\"type\":\"object\",\"name\":\"GlyphRenderer\",\"id\":\"p3129\",\"attributes\":{\"data_source\":{\"type\":\"object\",\"name\":\"ColumnDataSource\",\"id\":\"p3123\",\"attributes\":{\"selected\":{\"type\":\"object\",\"name\":\"Selection\",\"id\":\"p3125\",\"attributes\":{\"indices\":[],\"line_indices\":[]}},\"selection_policy\":{\"type\":\"object\",\"name\":\"UnionRenderers\",\"id\":\"p3124\"},\"data\":{\"type\":\"map\",\"entries\":[[\"top\",[163,178,181,187,163,152,161,182,161,147,164,188,179,162,182,169,171,176,169,176,146,159,186,133,154,163,157,150,153,164,137,170,154,166,190,148,160,169,149,167,114,145,160,159,175,153,172,160,161,145,159,156,144,139,158,149,68,59,77,51,69,61,58,62,68,66,69,71,53,31,60,30,20,22,25]],[\"x\",[28,48,10,20,9,40,15,46,12,37,44,14,38,8,25,7,4,39,51,2,49,13,31,54,32,53,42,6,41,35,47,11,5,36,17,19,45,3,33,18,55,56,27,16,24,43,29,52,50,1,30,21,26,23,22,34,68,61,58,67,59,63,60,70,66,57,64,62,65,73,69,74,72,71,75]]]}}},\"view\":{\"type\":\"object\",\"name\":\"CDSView\",\"id\":\"p3130\",\"attributes\":{\"filter\":{\"type\":\"object\",\"name\":\"AllIndices\",\"id\":\"p3131\"}}},\"glyph\":{\"type\":\"object\",\"name\":\"VBar\",\"id\":\"p3126\",\"attributes\":{\"x\":{\"type\":\"field\",\"field\":\"x\"},\"width\":{\"type\":\"value\",\"value\":0.2},\"top\":{\"type\":\"field\",\"field\":\"top\"},\"line_color\":{\"type\":\"value\",\"value\":\"#1f77b4\"},\"fill_color\":{\"type\":\"value\",\"value\":\"#1f77b4\"}}},\"nonselection_glyph\":{\"type\":\"object\",\"name\":\"VBar\",\"id\":\"p3127\",\"attributes\":{\"x\":{\"type\":\"field\",\"field\":\"x\"},\"width\":{\"type\":\"value\",\"value\":0.2},\"top\":{\"type\":\"field\",\"field\":\"top\"},\"line_color\":{\"type\":\"value\",\"value\":\"#1f77b4\"},\"line_alpha\":{\"type\":\"value\",\"value\":0.1},\"fill_color\":{\"type\":\"value\",\"value\":\"#1f77b4\"},\"fill_alpha\":{\"type\":\"value\",\"value\":0.1},\"hatch_alpha\":{\"type\":\"value\",\"value\":0.1}}},\"muted_glyph\":{\"type\":\"object\",\"name\":\"VBar\",\"id\":\"p3128\",\"attributes\":{\"x\":{\"type\":\"field\",\"field\":\"x\"},\"width\":{\"type\":\"value\",\"value\":0.2},\"top\":{\"type\":\"field\",\"field\":\"top\"},\"line_color\":{\"type\":\"value\",\"value\":\"#1f77b4\"},\"line_alpha\":{\"type\":\"value\",\"value\":0.2},\"fill_color\":{\"type\":\"value\",\"value\":\"#1f77b4\"},\"fill_alpha\":{\"type\":\"value\",\"value\":0.2},\"hatch_alpha\":{\"type\":\"value\",\"value\":0.2}}}}}],\"toolbar\":{\"type\":\"object\",\"name\":\"Toolbar\",\"id\":\"p3085\",\"attributes\":{\"tools\":[{\"type\":\"object\",\"name\":\"PanTool\",\"id\":\"p3108\"},{\"type\":\"object\",\"name\":\"WheelZoomTool\",\"id\":\"p3109\"},{\"type\":\"object\",\"name\":\"BoxZoomTool\",\"id\":\"p3110\",\"attributes\":{\"overlay\":{\"type\":\"object\",\"name\":\"BoxAnnotation\",\"id\":\"p3111\",\"attributes\":{\"syncable\":false,\"level\":\"overlay\",\"visible\":false,\"left_units\":\"canvas\",\"right_units\":\"canvas\",\"bottom_units\":\"canvas\",\"top_units\":\"canvas\",\"line_color\":\"black\",\"line_alpha\":1.0,\"line_width\":2,\"line_dash\":[4,4],\"fill_color\":\"lightgrey\",\"fill_alpha\":0.5}}}},{\"type\":\"object\",\"name\":\"SaveTool\",\"id\":\"p3112\"},{\"type\":\"object\",\"name\":\"ResetTool\",\"id\":\"p3113\"},{\"type\":\"object\",\"name\":\"HelpTool\",\"id\":\"p3114\"}]}},\"left\":[{\"type\":\"object\",\"name\":\"LinearAxis\",\"id\":\"p3101\",\"attributes\":{\"ticker\":{\"type\":\"object\",\"name\":\"BasicTicker\",\"id\":\"p3104\",\"attributes\":{\"mantissas\":[1,2,5]}},\"formatter\":{\"type\":\"object\",\"name\":\"BasicTickFormatter\",\"id\":\"p3103\"},\"axis_label_standoff\":10,\"axis_label_text_color\":\"#E0E0E0\",\"axis_label_text_font\":\"Helvetica\",\"axis_label_text_font_size\":\"1.25em\",\"axis_label_text_font_style\":\"normal\",\"major_label_policy\":{\"type\":\"object\",\"name\":\"AllLabels\",\"id\":\"p3102\"},\"major_label_text_color\":\"#E0E0E0\",\"major_label_text_font\":\"Helvetica\",\"major_label_text_font_size\":\"1.025em\",\"axis_line_color\":\"#E0E0E0\",\"axis_line_alpha\":0,\"major_tick_line_color\":\"#E0E0E0\",\"major_tick_line_alpha\":0,\"minor_tick_line_color\":\"#E0E0E0\",\"minor_tick_line_alpha\":0}}],\"below\":[{\"type\":\"object\",\"name\":\"LinearAxis\",\"id\":\"p3094\",\"attributes\":{\"ticker\":{\"type\":\"object\",\"name\":\"BasicTicker\",\"id\":\"p3097\",\"attributes\":{\"mantissas\":[1,2,5]}},\"formatter\":{\"type\":\"object\",\"name\":\"BasicTickFormatter\",\"id\":\"p3096\"},\"axis_label_standoff\":10,\"axis_label_text_color\":\"#E0E0E0\",\"axis_label_text_font\":\"Helvetica\",\"axis_label_text_font_size\":\"1.25em\",\"axis_label_text_font_style\":\"normal\",\"major_label_policy\":{\"type\":\"object\",\"name\":\"AllLabels\",\"id\":\"p3095\"},\"major_label_text_color\":\"#E0E0E0\",\"major_label_text_font\":\"Helvetica\",\"major_label_text_font_size\":\"1.025em\",\"axis_line_color\":\"#E0E0E0\",\"axis_line_alpha\":0,\"major_tick_line_color\":\"#E0E0E0\",\"major_tick_line_alpha\":0,\"minor_tick_line_color\":\"#E0E0E0\",\"minor_tick_line_alpha\":0}}],\"center\":[{\"type\":\"object\",\"name\":\"Grid\",\"id\":\"p3100\",\"attributes\":{\"axis\":{\"id\":\"p3094\"},\"grid_line_color\":\"#E0E0E0\",\"grid_line_alpha\":0.25}},{\"type\":\"object\",\"name\":\"Grid\",\"id\":\"p3107\",\"attributes\":{\"dimension\":1,\"axis\":{\"id\":\"p3101\"},\"grid_line_color\":\"#E0E0E0\",\"grid_line_alpha\":0.25}}],\"background_fill_color\":\"#20262B\",\"border_fill_color\":\"#15191C\"}}],\"callbacks\":{\"type\":\"map\"}}};\n  const render_items = [{\"docid\":\"e3378991-076c-44bf-9544-d344bbad7422\",\"roots\":{\"p3076\":\"e894efe2-6989-4570-a724-a457cb9043ba\"},\"root_ids\":[\"p3076\"]}];\n  root.Bokeh.embed.embed_items_notebook(docs_json, render_items);\n  }\n  if (root.Bokeh !== undefined) {\n    embed_document(root);\n  } else {\n    let attempts = 0;\n    const timer = setInterval(function(root) {\n      if (root.Bokeh !== undefined) {\n        clearInterval(timer);\n        embed_document(root);\n      } else {\n        attempts++;\n        if (attempts > 100) {\n          clearInterval(timer);\n          console.log(\"Bokeh: ERROR: Unable to run BokehJS code because BokehJS library is missing\");\n        }\n      }\n    }, 10, root)\n  }\n})(window);",
            "application/vnd.bokehjs_exec.v0+json": ""
          },
          "metadata": {
            "application/vnd.bokehjs_exec.v0+json": {
              "id": "p3076"
            }
          },
          "output_type": "display_data"
        }
      ],
      "source": [
        "output_notebook()\n",
        "\n",
        "#Set the display theme.\n",
        "curdoc().theme = 'dark_minimal'\n",
        "\n",
        "# instantiating the figure object \n",
        "graph = figure(x_range= (1, 76), width= 1200, height= 600, title = \"MegaMillion Historical Winning Draw Counts\")\n",
        "\n",
        "#Create the list data.\n",
        "totals = mm_counts_df['totals'].to_list()\n",
        "values = mm_counts_df['value'].to_list()\n",
        "  \n",
        "# the points to be plotted \n",
        "x = values\n",
        "y = totals \n",
        "  \n",
        "# height / thickness of the bars in the plot\n",
        "width = .2\n",
        "  \n",
        "# plotting the verticle bar graph \n",
        "graph.vbar(x, top= y, width= width)\n",
        "graph.y_range.start = 1\n",
        "  \n",
        "# displaying the model \n",
        "show(graph)\n"
      ]
    }
  ],
  "metadata": {
    "colab": {
      "include_colab_link": true,
      "provenance": []
    },
    "kernelspec": {
      "display_name": "Python 3.10.6 64-bit",
      "language": "python",
      "name": "python3"
    },
    "language_info": {
      "codemirror_mode": {
        "name": "ipython",
        "version": 3
      },
      "file_extension": ".py",
      "mimetype": "text/x-python",
      "name": "python",
      "nbconvert_exporter": "python",
      "pygments_lexer": "ipython3",
      "version": "3.10.6"
    },
    "orig_nbformat": 4,
    "vscode": {
      "interpreter": {
        "hash": "aee8b7b246df8f9039afb4144a1f6fd8d2ca17a180786b69acc140d282b71a49"
      }
    }
  },
  "nbformat": 4,
  "nbformat_minor": 0
}
