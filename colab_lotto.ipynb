{
  "cells": [
    {
      "cell_type": "markdown",
      "metadata": {
        "colab_type": "text",
        "id": "view-in-github"
      },
      "source": [
        "<a href=\"https://colab.research.google.com/github/Mikdown/Lottery-Picker/blob/master/colab_lotto.ipynb\" target=\"_parent\"><img src=\"https://colab.research.google.com/assets/colab-badge.svg\" alt=\"Open In Colab\"/></a>"
      ]
    },
    {
      "cell_type": "code",
      "execution_count": 3,
      "metadata": {
        "id": "ciAogFP5eKQJ"
      },
      "outputs": [],
      "source": [
        "import pandas as pd\n",
        "pd.set_option('display.max_columns', 20)\n",
        "pd.set_option('display.width', 1000)\n",
        "import numpy as np\n",
        "import datetime\n",
        "import random\n",
        "import sqlite3\n",
        "from collections import Counter\n",
        "mega_draw_file_url = (\"https://raw.githubusercontent.com/Mikdown/Lottery-Picker/master/assets/megamillions.csv\")\n",
        "mega_weather_file_url = (\"https://raw.githubusercontent.com/Mikdown/Lottery-Picker/master/assets/mega_weather.csv\")\n",
        "pb_draw_file_url = (\"https://raw.githubusercontent.com/Mikdown/Lottery-Picker/master/assets/powerball.csv\")\n",
        "pb_weather_file_url = (\"https://raw.githubusercontent.com/Mikdown/Lottery-Picker/master/assets/pb_weather.csv\")\n",
        "\n",
        "conn = sqlite3.connect('assets/lottery_data.db')\n",
        "\n",
        "cur = conn.cursor()"
      ]
    },
    {
      "cell_type": "markdown",
      "metadata": {
        "id": "hO-6wKUjeKQK"
      },
      "source": [
        "###The following four code cells meet the first and second feature requirements:\n",
        "1. Feature 1. Read two data files (CSV).\n",
        "2. Feature 2. Clean your data.\n",
        "    - Four CSV files are read in from Github and cleaned(transformed) with Pandas. \n",
        "3. Feature 1. Set up a local database and read data in with SQLite.\n",
        "4. Feature 2. Perform a SQL join.\n",
        "    - After transformation the files are read into a local SQLite3 DB to be used for futher analysis.\n",
        "    - Data is read in from the database, filtered, grouped and a SQL join is performed on 2 tables."
      ]
    },
    {
      "cell_type": "code",
      "execution_count": null,
      "metadata": {
        "colab": {
          "base_uri": "https://localhost:8080/"
        },
        "id": "Dhjb2ff4DT_D",
        "outputId": "2c7347cf-6f65-4c28-c0af-3c7e91a42051"
      },
      "outputs": [],
      "source": [
        "mega_draw_file = (mega_draw_file_url)\n",
        "mega_weather_file = (mega_weather_file_url)\n",
        "\n",
        "mega_draw_df = pd.read_csv(mega_draw_file, engine='python', parse_dates= {\"draw_date\" : [\"year\",\"month\",\"day\"]})\n",
        "mega_weather_df = pd.read_csv(mega_weather_file, engine='python')\n",
        "\n",
        "#Split the \"DATE_TIME\" column into 2 seperate columns \"Date\" and \"Time\".\n",
        "\n",
        "mega_weather_df['Date'] = pd.to_datetime(mega_weather_df['DATE_TIME']).dt.strftime('%Y%m%d')\n",
        "mega_weather_df['Time'] = pd.to_datetime(mega_weather_df['DATE_TIME']).dt.strftime('%H%M')\n",
        "\n",
        "mega_weather_df['Date'] = pd.to_datetime(mega_weather_df['Date'])\n",
        "mega_weather_df['DATE_TIME'] = pd.to_datetime(mega_weather_df['DATE_TIME'])\n",
        "\n",
        "mega_draw_df.rename({'draw_date': 'Date'}, axis=1, inplace=True)\n",
        "mega_draw_df['Date'] = pd.to_datetime(mega_draw_df['Date']).dt.strftime('%Y%m%d')\n",
        "mega_draw_df['Date'] = pd.to_datetime(mega_draw_df['Date'])\n",
        "mega_draw_df['month'] = pd.DatetimeIndex(mega_draw_df['Date']).month_name()\n",
        "mega_draw_df['day_name'] = pd.DatetimeIndex(mega_draw_df['Date']).day_name()\n",
        "mega_draw_df['day_num'] = pd.DatetimeIndex(mega_draw_df['Date']).dayofweek\n",
        "mega_draw_df['day_date'] = pd.DatetimeIndex(mega_draw_df['Date']).day\n",
        "mega_draw_df['draw_time'] = '2300'\n",
        "mega_draw_df[['num_1', 'num_2', 'num_3', 'num_4', 'num_5', 'mb']] = mega_draw_df[['num_1', 'num_2', 'num_3', 'num_4', 'num_5', 'mb']].astype(int)\n",
        "\n",
        "\n",
        "mega_draw_df.to_sql('mm_draw', conn, if_exists='replace', index = False)\n",
        "mega_weather_df.to_sql('mm_weather', conn, if_exists='replace', index = False)\n",
        "\n",
        "print(mega_draw_df)\n",
        "print(mega_weather_df)"
      ]
    },
    {
      "cell_type": "code",
      "execution_count": null,
      "metadata": {
        "colab": {
          "base_uri": "https://localhost:8080/"
        },
        "id": "iLMXBtZJnKOf",
        "outputId": "b26c8cb5-8c87-47d5-bf18-74a2966ca595"
      },
      "outputs": [],
      "source": [
        "mm_sql_filter = '''SELECT * FROM mm_weather WHERE (Time > 2200 AND Time < 2359)'''\n",
        "mm_weather_filtered_df = pd.read_sql(mm_sql_filter, conn)\n",
        "\n",
        "mm_weather_filtered_df['DATE_TIME'] = pd.to_datetime(mm_weather_filtered_df['DATE_TIME'])\n",
        "mm_weather_filtered_df['Date'] = pd.to_datetime(mm_weather_filtered_df['Date'])\n",
        "mm_weather_filtered_df = mm_weather_filtered_df.fillna(0)\n",
        "\n",
        "mm_weather_filtered_df.to_sql('mm_weather_filtered', conn, if_exists='replace', index = False)\n",
        "\n",
        "mm_sql_grooper = '''SELECT * FROM mm_weather_filtered GROUP BY Date'''\n",
        "mm_weather_grouped_df = pd.read_sql(mm_sql_grooper, conn)\n",
        "\n",
        "mm_weather_grouped_df.to_sql('mm_weather_grouped', conn, if_exists='replace', index = False)\n",
        "\n",
        "mm_sql_join = '''SELECT * FROM mm_draw JOIN mm_weather_grouped USING (Date)'''\n",
        "mm_join_df = pd.read_sql(mm_sql_join, conn)\n",
        "\n",
        "mm_join_df.to_sql('mm_join', conn, if_exists='replace', index = False)\n",
        "print(mm_weather_filtered_df)\n",
        "print(mm_weather_grouped_df)\n",
        "print(mm_join_df)"
      ]
    },
    {
      "cell_type": "code",
      "execution_count": null,
      "metadata": {
        "id": "rf1pdLpXeKQN"
      },
      "outputs": [],
      "source": [
        "mm_counts_1 = mega_draw_df['num_1'].value_counts()\n",
        "mm_counts_2 = mega_draw_df['num_2'].value_counts()\n",
        "mm_counts_3 = mega_draw_df['num_3'].value_counts()\n",
        "mm_counts_4 = mega_draw_df['num_4'].value_counts()\n",
        "mm_counts_5 = mega_draw_df['num_5'].value_counts()\n",
        "mm_counts_mb = mega_draw_df['mb'].value_counts()\n",
        "\n",
        "mm_counts_df = pd.concat([mm_counts_1, mm_counts_2, mm_counts_3, mm_counts_4, mm_counts_5, mm_counts_mb], axis=1)\n",
        "mm_counts_df['mb'] = mm_counts_df['mb'].fillna(0).astype(int)\n",
        "col_list= list(mm_counts_df)\n",
        "col_list.remove('mb')\n",
        "\n",
        "mm_counts_df['totals'] = mm_counts_df[col_list].sum(axis=1)\n",
        "mm_counts_df.sort_index(ascending=True)\n",
        "mm_counts_df.to_sql('mm_counts', conn, if_exists='replace', index = False)\n",
        "\n",
        "print(mm_counts_df)\n"
      ]
    },
    {
      "cell_type": "code",
      "execution_count": null,
      "metadata": {
        "colab": {
          "base_uri": "https://localhost:8080/"
        },
        "id": "MLFwInXReKQM",
        "outputId": "4df7e363-19c4-4657-fda3-d38dbbf15d03"
      },
      "outputs": [],
      "source": [
        "pb_draw_file = (pb_draw_file_url)\n",
        "pb_weather_file = (pb_weather_file_url)\n",
        "\n",
        "pb_draw_df = pd.read_csv(pb_draw_file, engine='python', parse_dates= {\"draw_date\" : [\"year\",\"month\",\"day\"]})\n",
        "pb_weather_df = pd.read_csv(pb_weather_file, engine='python')\n",
        "\n",
        "pb_weather_df['Date'] = pd.to_datetime(pb_weather_df['DATE_TIME']).dt.strftime('%Y%m%d')\n",
        "pb_weather_df['Time'] = pd.to_datetime(pb_weather_df['DATE_TIME']).dt.strftime('%H%M')\n",
        "\n",
        "pb_weather_df['Date'] = pd.to_datetime(pb_weather_df['Date'])\n",
        "pb_weather_df['DATE_TIME'] = pd.to_datetime(pb_weather_df['DATE_TIME'])\n",
        "\n",
        "pb_draw_df.rename({'draw_date': 'Date'}, axis=1, inplace=True)\n",
        "pb_draw_df['Date'] = pd.to_datetime(pb_draw_df['Date']).dt.strftime('%Y%m%d')\n",
        "pb_draw_df['Date'] = pd.to_datetime(pb_draw_df['Date'])\n",
        "pb_draw_df['month'] = pd.DatetimeIndex(pb_draw_df['Date']).month_name()\n",
        "pb_draw_df['day_name'] = pd.DatetimeIndex(pb_draw_df['Date']).day_name()\n",
        "pb_draw_df['day_num'] = pd.DatetimeIndex(pb_draw_df['Date']).dayofweek\n",
        "pb_draw_df['day_date'] = pd.DatetimeIndex(pb_draw_df['Date']).day\n",
        "pb_draw_df['draw_time'] = '2300'\n",
        "pb_draw_df[['num_1', 'num_2', 'num_3', 'num_4', 'num_5', 'mb']] = mega_draw_df[['num_1', 'num_2', 'num_3', 'num_4', 'num_5', 'mb']].astype(int)\n",
        "\n",
        "pb_draw_df.to_sql('pb_draw', conn, if_exists='replace', index = False)\n",
        "pb_weather_df.to_sql('pb_weather', conn, if_exists='replace', index = False)\n",
        "\n",
        "print(pb_draw_df)\n",
        "print(pb_weather_df)\n"
      ]
    },
    {
      "cell_type": "code",
      "execution_count": null,
      "metadata": {
        "colab": {
          "base_uri": "https://localhost:8080/"
        },
        "id": "REFZ6a_BDZOF",
        "outputId": "7dca5126-b681-4fac-fe1b-ad07ba140681"
      },
      "outputs": [],
      "source": [
        "pb_sql_filter = '''SELECT * FROM pb_weather WHERE (Time > 2200 AND Time < 2359)'''\n",
        "pb_weather_filtered_df = pd.read_sql(pb_sql_filter, conn)\n",
        "pb_weather_filtered_df['DATE_TIME'] = pd.to_datetime(pb_weather_filtered_df['DATE_TIME'])\n",
        "pb_weather_filtered_df['Date'] = pd.to_datetime(pb_weather_filtered_df['Date'])\n",
        "pb_weather_filtered_df = pb_weather_filtered_df.fillna(0)\n",
        "\n",
        "pb_weather_filtered_df.to_sql('pb_weather_filtered', conn, if_exists='replace', index = False)\n",
        "\n",
        "pb_sql_grooper = '''SELECT * FROM pb_weather_filtered GROUP BY Date'''\n",
        "pb_weather_grouped_df = pd.read_sql(pb_sql_grooper, conn)\n",
        "\n",
        "pb_weather_grouped_df.to_sql('pb_weather_grouped', conn, if_exists='replace', index = False)\n",
        "\n",
        "pb_sql_join = '''SELECT * FROM pb_draw JOIN pb_weather_grouped USING (Date)'''\n",
        "pb_join_df = pd.read_sql(pb_sql_join, conn)\n",
        "\n",
        "pb_join_df.to_sql('pb_join', conn, if_exists='replace', index = False)\n",
        "print(pb_weather_filtered_df)\n",
        "print(pb_weather_grouped_df)\n",
        "print(pb_join_df)"
      ]
    },
    {
      "cell_type": "code",
      "execution_count": null,
      "metadata": {
        "colab": {
          "base_uri": "https://localhost:8080/",
          "height": 898
        },
        "id": "FKpaHver-7pI",
        "outputId": "0cfa5c09-66e4-4b8e-e4a5-10de8a5d936c"
      },
      "outputs": [],
      "source": [
        "%%HTML\n",
        "<div class='tableauPlaceholder' id='viz1679398882113' style='position: relative'><noscript><a href='#'><img alt='Dashboard 1 ' src='https:&#47;&#47;public.tableau.com&#47;static&#47;images&#47;Me&#47;MegamillionsNumbers&#47;Dashboard1&#47;1_rss.png' style='border: none' /></a></noscript><object class='tableauViz'  style='display:none;'><param name='host_url' value='https%3A%2F%2Fpublic.tableau.com%2F' /> <param name='embed_code_version' value='3' /> <param name='site_root' value='' /><param name='name' value='MegamillionsNumbers&#47;Dashboard1' /><param name='tabs' value='no' /><param name='toolbar' value='yes' /><param name='static_image' value='https:&#47;&#47;public.tableau.com&#47;static&#47;images&#47;Me&#47;MegamillionsNumbers&#47;Dashboard1&#47;1.png' /> <param name='animate_transition' value='yes' /><param name='display_static_image' value='yes' /><param name='display_spinner' value='yes' /><param name='display_overlay' value='yes' /><param name='display_count' value='yes' /><param name='language' value='en-US' /></object></div>                <script type='text/javascript'>                    var divElement = document.getElementById('viz1679398882113');                    var vizElement = divElement.getElementsByTagName('object')[0];                    if ( divElement.offsetWidth > 800 ) { vizElement.style.minWidth='420px';vizElement.style.maxWidth='650px';vizElement.style.width='100%';vizElement.style.minHeight='587px';vizElement.style.maxHeight='887px';vizElement.style.height=(divElement.offsetWidth*0.75)+'px';} else if ( divElement.offsetWidth > 500 ) { vizElement.style.minWidth='420px';vizElement.style.maxWidth='650px';vizElement.style.width='100%';vizElement.style.minHeight='587px';vizElement.style.maxHeight='887px';vizElement.style.height=(divElement.offsetWidth*0.75)+'px';} else { vizElement.style.width='100%';vizElement.style.height='1677px';}                     var scriptElement = document.createElement('script');                    scriptElement.src = 'https://public.tableau.com/javascripts/api/viz_v1.js';                    vizElement.parentNode.insertBefore(scriptElement, vizElement);                </script>"
      ]
    },
    {
      "cell_type": "code",
      "execution_count": null,
      "metadata": {
        "id": "idrfC-EBeKQN"
      },
      "outputs": [],
      "source": [
        "#weather_df = weather_df.astype({\"HourlyRelativeHumidity\": float})\n",
        "weather_filter_df = mega_weather_df.query('DBTemp == 42 & RHumid == 73')\n",
        "#weather_df.dtypes\n",
        "#weather_filter_df\n",
        "weather_date_unique = weather_filter_df['Date'].unique()\n",
        "weather_date_unique_df = pd.DataFrame(weather_date_unique, columns=['date_time'])\n",
        "weather_date_unique_df['date_time'] = pd.to_datetime(weather_date_unique_df['date_time'])\n",
        "\n",
        "weather_date_unique_df['time_only'] = pd.to_datetime(weather_date_unique_df['date_time']).dt.time\n",
        "weather_date_unique_df['draw_date'] = pd.to_datetime(weather_date_unique_df['date_time']).dt.date\n",
        "weather_date_unique_df['draw_date'] = pd.to_datetime(weather_date_unique_df['draw_date'])\n",
        "weather_date_unique_df['draw_date'] = weather_date_unique_df['draw_date'].dt.strftime('%m/%d/%Y')\n",
        "\n",
        "\n",
        "\n",
        "dates_list = weather_date_unique_df['draw_date'].values.tolist()\n",
        "\n",
        "#with pd.option_context('display.max_rows', None,\n",
        "#                       'display.max_columns', None,\n",
        "#                       'display.precision', 3,\n",
        "#                       ):\n",
        "#    print(weather_date_unique_df)\n",
        "dates_list\n"
      ]
    },
    {
      "cell_type": "code",
      "execution_count": null,
      "metadata": {
        "id": "yj1afnV9eKQN"
      },
      "outputs": [],
      "source": [
        "arr = mega_draw_df.iloc[:, 2:7].values\n",
        "\n",
        "mega_draw_df['check'] = np.any(((arr[:, 1:] - arr[:, :-1]) == 1),axis=1).astype(int)\n",
        "with pd.option_context('display.max_rows', None,\n",
        "                       'display.max_columns', None,\n",
        "                       'display.precision', 3,\n",
        "                       ):\n",
        "    print(mega_draw_df)\n",
        "\n",
        "mega_draw_df.dtypes"
      ]
    },
    {
      "cell_type": "code",
      "execution_count": null,
      "metadata": {
        "id": "-m5lx8RQeKQO"
      },
      "outputs": [],
      "source": [
        "mega_draw_df['draw_date'] = pd.to_datetime(mega_draw_df['draw_date'])\n",
        "date_df = mega_draw_df[mega_draw_df['draw_date'].dt.month == 12]\n",
        "\n",
        "counts_1 = date_df['num_1'].value_counts()\n",
        "counts_2 = date_df['num_2'].value_counts()\n",
        "counts_3 = date_df['num_3'].value_counts()\n",
        "counts_4 = date_df['num_4'].value_counts()\n",
        "counts_5 = date_df['num_5'].value_counts()\n",
        "counts_MB = date_df['MB'].value_counts()\n",
        "counts_df = pd.concat([counts_1, counts_2, counts_3, counts_4, counts_5, counts_MB], axis=1)\n",
        "\n",
        "with pd.option_context('display.max_rows', None,\n",
        "                       'display.max_columns', None,\n",
        "                       'display.precision', 3,\n",
        "                       ):\n",
        "    print(counts_df)\n",
        "    "
      ]
    },
    {
      "cell_type": "code",
      "execution_count": null,
      "metadata": {
        "id": "9TWf27M7eKQO"
      },
      "outputs": [],
      "source": [
        "mega_draw_df['draw_date'].astype(str)\n",
        "df2 = mega_draw_df[mega_draw_df['draw_date'].isin(dates_list)]\n",
        "\n",
        "\n",
        "\n",
        "\n",
        "with pd.option_context('display.max_rows', None,\n",
        "                       'display.max_columns', None,\n",
        "                       'display.precision', 3,\n",
        "                       ):\n",
        "    print(df2)\n",
        "\n"
      ]
    },
    {
      "cell_type": "code",
      "execution_count": null,
      "metadata": {
        "id": "9Q_TPCOkeKQO"
      },
      "outputs": [],
      "source": [
        "counts_1 = df2['num_1'].value_counts()\n",
        "counts_2 = df2['num_2'].value_counts()\n",
        "counts_3 = df2['num_3'].value_counts()\n",
        "counts_4 = df2['num_4'].value_counts()\n",
        "counts_5 = df2['num_5'].value_counts()\n",
        "counts_MB = df2['MB'].value_counts()\n",
        "counts_MB_df= pd.DataFrame(counts_MB)\n",
        "sorted_MB = counts_MB_df.sort_values('MB', ascending=False)\n",
        "counts_df = pd.concat([counts_1, counts_2, counts_3, counts_4, counts_5], axis=1)\n",
        "counts_df['totals'] = counts_df.sum(axis=1, skipna=True)\n",
        "sorted_df = counts_df.sort_values('totals', ascending=False)\n",
        "\n",
        "with pd.option_context('display.max_rows', None,\n",
        "                       'display.max_columns', None,\n",
        "                       'display.precision', 3,\n",
        "                       ):\n",
        "    print(sorted_df)\n",
        "    print(sorted_MB)"
      ]
    },
    {
      "cell_type": "code",
      "execution_count": null,
      "metadata": {
        "id": "flLJ48T8eKQO"
      },
      "outputs": [],
      "source": [
        "draw_list=(sorted_df.index.values)\n",
        "draw_list_MB=(sorted_MB.index.values)\n",
        "print(draw_list)\n",
        "print(draw_list_MB)\n",
        "type(draw_list)"
      ]
    },
    {
      "cell_type": "code",
      "execution_count": null,
      "metadata": {
        "id": "R0XLuXnKeKQO"
      },
      "outputs": [],
      "source": [
        "draw_list = list(draw_list)\n",
        "new_list1 = random.sample(draw_list, 5)\n",
        "new_list1 = sorted(new_list1)\n",
        "draw_list_MB = list(draw_list_MB)\n",
        "new_list_MB = random.sample(draw_list_MB, 1)\n",
        "#sorted([str(x) for x in new_list1])\n",
        "print(new_list1 + new_list_MB)\n",
        "type(new_list1[1])"
      ]
    }
  ],
  "metadata": {
    "colab": {
      "include_colab_link": true,
      "provenance": []
    },
    "kernelspec": {
      "display_name": "Python 3.10.6 64-bit",
      "language": "python",
      "name": "python3"
    },
    "language_info": {
      "codemirror_mode": {
        "name": "ipython",
        "version": 3
      },
      "file_extension": ".py",
      "mimetype": "text/x-python",
      "name": "python",
      "nbconvert_exporter": "python",
      "pygments_lexer": "ipython3",
      "version": "3.10.6"
    },
    "orig_nbformat": 4,
    "vscode": {
      "interpreter": {
        "hash": "aee8b7b246df8f9039afb4144a1f6fd8d2ca17a180786b69acc140d282b71a49"
      }
    }
  },
  "nbformat": 4,
  "nbformat_minor": 0
}
