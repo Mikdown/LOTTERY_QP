{
 "cells": [
  {
   "cell_type": "code",
   "execution_count": null,
   "metadata": {},
   "outputs": [],
   "source": [
    "import pandas as pd\n",
    "import numpy as npy\n",
    "pd.set_option('display.max_columns', 20)\n",
    "pd.set_option('display.width', 1000)\n",
    "import datetime\n",
    "import random\n",
    "import sqlite3\n",
    "\n",
    "conn_mb = sqlite3.connect('assets/mb_data.db')\n",
    "conn_pb = sqlite3.connect('assets/pb_data.db')\n",
    "cursor_mb = conn_mb.cursor()\n",
    "cursor_pb = conn_pb.cursor()"
   ]
  },
  {
   "attachments": {},
   "cell_type": "markdown",
   "metadata": {},
   "source": [
    "###The following two code cells meet the first feature requirements:\n",
    "1. Read two data files (CSV). \n",
    "    - Four CSV files are read in and cleaned (transformed). \n",
    "2. Set up a local database and read data in with SQLite. \n",
    "    - After transformation the files are read into a SQLite DB to be used for futher analysis."
   ]
  },
  {
   "cell_type": "code",
   "execution_count": null,
   "metadata": {},
   "outputs": [],
   "source": [
    "mega_draw_file = (\"assets/megamillions.csv\")\n",
    "mega_weather_file = (\"assets/mega_weather.csv\")\n",
    "\n",
    "\n",
    "mega_draw_df = pd.read_csv(mega_draw_file, engine='python', parse_dates= {\"draw_date\" : [\"year\",\"month\",\"day\"]})\n",
    "mega_weather_df = pd.read_csv(mega_weather_file, engine='python')\n",
    "\n",
    "#Split the \"DATE_TIME\" column into 2 seperate columns \"Date\" and \"Time\".\n",
    "\n",
    "mega_weather_df['Date'] = pd.to_datetime(mega_weather_df['DATE_TIME']).dt.date\n",
    "mega_weather_df['Time'] = pd.to_datetime(mega_weather_df['DATE_TIME']).dt.time\n",
    "\n",
    "pd.to_datetime(mega_draw_df['draw_date'], errors='coerce')\n",
    "mega_draw_df['month'] = pd.DatetimeIndex(mega_draw_df['draw_date']).month_name()\n",
    "mega_draw_df['day_name'] = pd.DatetimeIndex(mega_draw_df['draw_date']).day_name()\n",
    "mega_draw_df['day_num'] = pd.DatetimeIndex(mega_draw_df['draw_date']).dayofweek\n",
    "mega_draw_df['day_date'] = pd.DatetimeIndex(mega_draw_df['draw_date']).day\n",
    "mega_draw_df['draw_time'] = '23:00:00'\n",
    "\n",
    "mega_draw_df.to_sql('mb_draw', conn_mb, if_exists='append', index = False)\n",
    "mega_weather_df.to_sql('mb_weather', conn_mb, if_exists='append', index = False)\n",
    "\n",
    "print(mega_draw_df)\n",
    "print(mega_weather_df)"
   ]
  },
  {
   "cell_type": "code",
   "execution_count": null,
   "metadata": {},
   "outputs": [],
   "source": [
    "pb_draw_file = (\"assets/powerball.csv\")\n",
    "pb_weather_file = (\"assets/pb_weather.csv\")\n",
    "\n",
    "pb_draw_df = pd.read_csv(pb_draw_file, engine='python', parse_dates= {\"draw_date\" : [\"year\",\"month\",\"day\"]})\n",
    "pb_weather_df = pd.read_csv(pb_weather_file, engine='python')\n",
    "\n",
    "pb_weather_df['Date'] = pd.to_datetime(pb_weather_df['DATE_TIME']).dt.date\n",
    "pb_weather_df['Time'] = pd.to_datetime(pb_weather_df['DATE_TIME']).dt.time\n",
    "\n",
    "pd.to_datetime(pb_draw_df['draw_date'], errors='coerce')\n",
    "pb_draw_df['month'] = pd.DatetimeIndex(pb_draw_df['draw_date']).month_name()\n",
    "pb_draw_df['day_name'] = pd.DatetimeIndex(pb_draw_df['draw_date']).day_name()\n",
    "pb_draw_df['day_num'] = pd.DatetimeIndex(pb_draw_df['draw_date']).dayofweek\n",
    "pb_draw_df['day_date'] = pd.DatetimeIndex(pb_draw_df['draw_date']).day\n",
    "pb_draw_df['draw_time'] = '23:00:00'\n",
    "\n",
    "pb_draw_df.to_sql('pb_draw', conn_pb, if_exists='append', index = False)\n",
    "pb_weather_df.to_sql('pb_weather', conn_pb, if_exists='append', index = False)\n",
    "\n",
    "print(pb_draw_df)\n",
    "print(pb_weather_df)"
   ]
  },
  {
   "cell_type": "code",
   "execution_count": null,
   "metadata": {},
   "outputs": [],
   "source": [
    "#weather_df = weather_df.astype({\"HourlyRelativeHumidity\": float})\n",
    "weather_filter_df = mega_weather_df.query('DBTemp == 42 & RHumid == 73')\n",
    "#weather_df.dtypes\n",
    "#weather_filter_df\n",
    "weather_date_unique = weather_filter_df['Date'].unique()\n",
    "weather_date_unique_df = pd.DataFrame(weather_date_unique, columns=['date_time'])\n",
    "weather_date_unique_df['date_time'] = pd.to_datetime(weather_date_unique_df['date_time'])\n",
    "\n",
    "weather_date_unique_df['time_only'] = pd.to_datetime(weather_date_unique_df['date_time']).dt.time\n",
    "weather_date_unique_df['draw_date'] = pd.to_datetime(weather_date_unique_df['date_time']).dt.date\n",
    "weather_date_unique_df['draw_date'] = pd.to_datetime(weather_date_unique_df['draw_date'])\n",
    "weather_date_unique_df['draw_date'] = weather_date_unique_df['draw_date'].dt.strftime('%m/%d/%Y')\n",
    "\n",
    "\n",
    "\n",
    "dates_list = weather_date_unique_df['draw_date'].values.tolist()\n",
    "\n",
    "#with pd.option_context('display.max_rows', None,\n",
    "#                       'display.max_columns', None,\n",
    "#                       'display.precision', 3,\n",
    "#                       ):\n",
    "#    print(weather_date_unique_df)\n",
    "dates_list\n"
   ]
  },
  {
   "cell_type": "code",
   "execution_count": null,
   "metadata": {},
   "outputs": [],
   "source": [
    "arr = mega_draw_df.iloc[:, 2:7].values\n",
    "\n",
    "mega_draw_df['check'] = npy.any(((arr[:, 1:] - arr[:, :-1]) == 1),axis=1).astype(int)\n",
    "with pd.option_context('display.max_rows', None,\n",
    "                       'display.max_columns', None,\n",
    "                       'display.precision', 3,\n",
    "                       ):\n",
    "    print(mega_draw_df)\n",
    "\n",
    "mega_draw_df.dtypes"
   ]
  },
  {
   "cell_type": "code",
   "execution_count": null,
   "metadata": {},
   "outputs": [],
   "source": [
    "counts_1 = mega_draw_df['num_1'].value_counts()\n",
    "counts_2 = mega_draw_df['num_2'].value_counts()\n",
    "counts_3 = mega_draw_df['num_3'].value_counts()\n",
    "counts_4 = mega_draw_df['num_4'].value_counts()\n",
    "counts_5 = mega_draw_df['num_5'].value_counts()\n",
    "counts_MB = mega_draw_df['MB'].value_counts()\n",
    "#counts_df.columns = ['num_1', 'counts_1']\n",
    "#with pd.option_context('display.max_rows', None,\n",
    "                       #'display.max_columns', None,\n",
    "                       #'display.precision', 3,\n",
    "                       #):\n",
    "    #print(counts_1, counts_2)\n",
    "counts_df = pd.concat([counts_1, counts_2, counts_3, counts_4, counts_5, counts_MB], axis=1)\n",
    "with pd.option_context('display.max_rows', None,\n",
    "                       'display.max_columns', None,\n",
    "                       'display.precision', 3,\n",
    "                       ):\n",
    "    print(counts_df)\n"
   ]
  },
  {
   "cell_type": "code",
   "execution_count": null,
   "metadata": {},
   "outputs": [],
   "source": [
    "mega_draw_df[0:2][['num_1', 'num_5']] #Slice the dataframe by selected row indexes and a list of column names.\n",
    "mega_draw_df['num_3'][:4] #create a series from the first 4 rows (0 - 3) of the column string \"num_3\".\n",
    "dft['num_2' : 'num_5'] #Slice transposed dataframe with row name from 'num_2 up to and including 'num_5'.\n",
    "dft.loc['num_3', 2] #Row/Column based indexing. loc uses lables to slice.\n",
    "mega_draw_df.iloc[1:100, :] #Slice dataframe by rows 1 - 99 and all columns. iloc uses integers as index positions to slice.\n"
   ]
  },
  {
   "cell_type": "code",
   "execution_count": null,
   "metadata": {},
   "outputs": [],
   "source": [
    "mega_draw_df['draw_date'] = pd.to_datetime(mega_draw_df['draw_date'])\n",
    "date_df = mega_draw_df[mega_draw_df['draw_date'].dt.month == 12]\n",
    "\n",
    "counts_1 = date_df['num_1'].value_counts()\n",
    "counts_2 = date_df['num_2'].value_counts()\n",
    "counts_3 = date_df['num_3'].value_counts()\n",
    "counts_4 = date_df['num_4'].value_counts()\n",
    "counts_5 = date_df['num_5'].value_counts()\n",
    "counts_MB = date_df['MB'].value_counts()\n",
    "counts_df = pd.concat([counts_1, counts_2, counts_3, counts_4, counts_5, counts_MB], axis=1)\n",
    "\n",
    "with pd.option_context('display.max_rows', None,\n",
    "                       'display.max_columns', None,\n",
    "                       'display.precision', 3,\n",
    "                       ):\n",
    "    print(counts_df)\n",
    "    "
   ]
  },
  {
   "cell_type": "code",
   "execution_count": null,
   "metadata": {},
   "outputs": [],
   "source": [
    "mega_draw_df['draw_date'].astype(str)\n",
    "df2 = mega_draw_df[mega_draw_df['draw_date'].isin(dates_list)]\n",
    "\n",
    "\n",
    "\n",
    "\n",
    "with pd.option_context('display.max_rows', None,\n",
    "                       'display.max_columns', None,\n",
    "                       'display.precision', 3,\n",
    "                       ):\n",
    "    print(df2)\n",
    "\n"
   ]
  },
  {
   "cell_type": "code",
   "execution_count": null,
   "metadata": {},
   "outputs": [],
   "source": [
    "counts_1 = df2['num_1'].value_counts()\n",
    "counts_2 = df2['num_2'].value_counts()\n",
    "counts_3 = df2['num_3'].value_counts()\n",
    "counts_4 = df2['num_4'].value_counts()\n",
    "counts_5 = df2['num_5'].value_counts()\n",
    "counts_MB = df2['MB'].value_counts()\n",
    "counts_MB_df= pd.DataFrame(counts_MB)\n",
    "sorted_MB = counts_MB_df.sort_values('MB', ascending=False)\n",
    "counts_df = pd.concat([counts_1, counts_2, counts_3, counts_4, counts_5], axis=1)\n",
    "counts_df['totals'] = counts_df.sum(axis=1, skipna=True)\n",
    "sorted_df = counts_df.sort_values('totals', ascending=False)\n",
    "\n",
    "with pd.option_context('display.max_rows', None,\n",
    "                       'display.max_columns', None,\n",
    "                       'display.precision', 3,\n",
    "                       ):\n",
    "    print(sorted_df)\n",
    "    print(sorted_MB)"
   ]
  },
  {
   "cell_type": "code",
   "execution_count": null,
   "metadata": {},
   "outputs": [],
   "source": [
    "draw_list=(sorted_df.index.values)\n",
    "draw_list_MB=(sorted_MB.index.values)\n",
    "print(draw_list)\n",
    "print(draw_list_MB)\n",
    "type(draw_list)"
   ]
  },
  {
   "cell_type": "code",
   "execution_count": null,
   "metadata": {},
   "outputs": [],
   "source": [
    "draw_list = list(draw_list)\n",
    "new_list1 = random.sample(draw_list, 5)\n",
    "new_list1 = sorted(new_list1)\n",
    "draw_list_MB = list(draw_list_MB)\n",
    "new_list_MB = random.sample(draw_list_MB, 1)\n",
    "#sorted([str(x) for x in new_list1])\n",
    "print(new_list1 + new_list_MB)\n",
    "type(new_list1[1])"
   ]
  }
 ],
 "metadata": {
  "kernelspec": {
   "display_name": "Python 3.10.6 64-bit",
   "language": "python",
   "name": "python3"
  },
  "language_info": {
   "codemirror_mode": {
    "name": "ipython",
    "version": 3
   },
   "file_extension": ".py",
   "mimetype": "text/x-python",
   "name": "python",
   "nbconvert_exporter": "python",
   "pygments_lexer": "ipython3",
   "version": "3.10.6"
  },
  "orig_nbformat": 4,
  "vscode": {
   "interpreter": {
    "hash": "aee8b7b246df8f9039afb4144a1f6fd8d2ca17a180786b69acc140d282b71a49"
   }
  }
 },
 "nbformat": 4,
 "nbformat_minor": 2
}
