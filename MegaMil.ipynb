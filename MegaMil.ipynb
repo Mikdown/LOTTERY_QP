{
 "cells": [
  {
   "cell_type": "code",
   "execution_count": 78,
   "metadata": {},
   "outputs": [],
   "source": [
    "import pandas as pd\n",
    "import numpy as npy\n",
    "pd.set_option('display.max_columns', 20)\n",
    "pd.set_option('display.width', 1000)\n",
    "import datetime\n",
    "import random\n",
    "import sqlite3\n",
    "\n",
    "conn_mb = sqlite3.connect('assets/mb_data.db')\n",
    "conn_pb = sqlite3.connect('assets/pb_data.db')\n",
    "cursor_mb = conn_mb.cursor()\n",
    "cursor_pb = conn_pb.cursor()"
   ]
  },
  {
   "attachments": {},
   "cell_type": "markdown",
   "metadata": {},
   "source": [
    "###The following two code cells meet the first feature requirements:\n",
    "1. Read two data files (CSV). \n",
    "    - Four CSV files are read in and cleaned (transformed). \n",
    "2. Set up a local database and read data in with SQLite. \n",
    "    - After transformation the files are read into a SQLite DB to be used for futher analysis."
   ]
  },
  {
   "cell_type": "code",
   "execution_count": 79,
   "metadata": {},
   "outputs": [
    {
     "name": "stdout",
     "output_type": "stream",
     "text": [
      "      draw_date           game  num_1  num_2  num_3  num_4  num_5  mb     month day_name  day_num  day_date\n",
      "0    2003-12-05  Mega Millions     12     44     15     18      1  42  December   Friday        4         5\n",
      "1    2003-12-09  Mega Millions     14     15     48      4     24  41  December  Tuesday        1         9\n",
      "2    2003-12-12  Mega Millions     16     32     46      9     45  26  December   Friday        4        12\n",
      "3    2003-12-16  Mega Millions     47     16     31     24     46  47  December  Tuesday        1        16\n",
      "4    2003-12-19  Mega Millions      5     10     39     17     35  38  December   Friday        4        19\n",
      "...         ...            ...    ...    ...    ...    ...    ...  ..       ...      ...      ...       ...\n",
      "2006 2023-02-24  Mega Millions     22     49      2     65     67   7  February   Friday        4        24\n",
      "2007 2023-02-28  Mega Millions     59     52     40     14     16  13  February  Tuesday        1        28\n",
      "2008 2023-03-03  Mega Millions     39      8     67     36     25  11     March   Friday        4         3\n",
      "2009 2023-03-07  Mega Millions     15     69     28     25     22  21     March  Tuesday        1         7\n",
      "2010 2023-03-10  Mega Millions     60      9     20     59     63   5     March   Friday        4        10\n",
      "\n",
      "[2011 rows x 12 columns]\n",
      "                  DATE_TIME DPTemp  DBTemp  Precip  RHumid        Date      Time\n",
      "0       2013-01-01T00:53:00     36      47     0.0      66  2013-01-01  00:53:00\n",
      "1       2013-01-01T01:53:00     36      43     0.0      76  2013-01-01  01:53:00\n",
      "2       2013-01-01T02:51:00     37      45     0.0      76  2013-01-01  02:51:00\n",
      "3       2013-01-01T02:53:00     37      44     0.0      76  2013-01-01  02:53:00\n",
      "4       2013-01-01T03:53:00     38      45     0.0      77  2013-01-01  03:53:00\n",
      "...                     ...    ...     ...     ...     ...         ...       ...\n",
      "115441  2022-12-16T22:53:00     28      43     0.0      56  2022-12-16  22:53:00\n",
      "115442  2022-12-16T23:53:00     27      44     0.0      51  2022-12-16  23:53:00\n",
      "115443  2022-12-16T23:59:00    NaN       0     0.0       0  2022-12-16  23:59:00\n",
      "115444  2022-12-17T00:53:00     28      45     0.0      52  2022-12-17  00:53:00\n",
      "115445  2022-12-17T01:53:00     28      45     0.0      52  2022-12-17  01:53:00\n",
      "\n",
      "[115446 rows x 7 columns]\n"
     ]
    }
   ],
   "source": [
    "mega_draw_file = (\"assets/megamillions.csv\")\n",
    "mega_weather_file = (\"assets/mega_weather.csv\")\n",
    "\n",
    "\n",
    "mega_draw_df = pd.read_csv(mega_draw_file, engine='python', parse_dates= {\"draw_date\" : [\"year\",\"month\",\"day\"]})\n",
    "mega_weather_df = pd.read_csv(mega_weather_file, engine='python')\n",
    "\n",
    "#Split the \"DATE_TIME\" column into 2 seperate columns \"Date\" and \"Time\".\n",
    "\n",
    "mega_weather_df['Date'] = pd.to_datetime(mega_weather_df['DATE_TIME']).dt.date\n",
    "mega_weather_df['Time'] = pd.to_datetime(mega_weather_df['DATE_TIME']).dt.time\n",
    "\n",
    "pd.to_datetime(mega_draw_df['draw_date'], errors='coerce')\n",
    "mega_draw_df['month'] = pd.DatetimeIndex(mega_draw_df['draw_date']).month_name()\n",
    "mega_draw_df['day_name'] = pd.DatetimeIndex(mega_draw_df['draw_date']).day_name()\n",
    "mega_draw_df['day_num'] = pd.DatetimeIndex(mega_draw_df['draw_date']).dayofweek\n",
    "mega_draw_df['day_date'] = pd.DatetimeIndex(mega_draw_df['draw_date']).day\n",
    "\n",
    "mega_draw_df.to_sql('mb_draw', conn_mb, if_exists='append', index = False)\n",
    "mega_weather_df.to_sql('mb_weather', conn_mb, if_exists='append', index = False)\n",
    "\n",
    "print(mega_draw_df)\n",
    "print(mega_weather_df)"
   ]
  },
  {
   "cell_type": "code",
   "execution_count": 80,
   "metadata": {},
   "outputs": [
    {
     "name": "stdout",
     "output_type": "stream",
     "text": [
      "      draw_date       game  num_1  num_2  num_3  num_4  num_5  pb     month   day_name  day_num  day_date\n",
      "0    2010-02-03  Powerball     37     52     22     36     17  24  February  Wednesday        2         3\n",
      "1    2010-02-06  Powerball     22     54     52     14     59   4  February   Saturday        5         6\n",
      "2    2010-02-10  Powerball     29      8     37     38      5  34  February  Wednesday        2        10\n",
      "3    2010-02-13  Powerball     14     10     40     51     30   1  February   Saturday        5        13\n",
      "4    2010-02-17  Powerball     36      7     26      8     19  15  February  Wednesday        2        17\n",
      "...         ...        ...    ...    ...    ...    ...    ...  ..       ...        ...      ...       ...\n",
      "1445 2023-03-04  Powerball     10     40     16     18     66  16     March   Saturday        5         4\n",
      "1446 2023-03-06  Powerball     69     58     13     29      2   4     March     Monday        0         6\n",
      "1447 2023-03-08  Powerball     43     69     26     27     61   4     March  Wednesday        2         8\n",
      "1448 2023-03-11  Powerball     33     58     11     43     20  24     March   Saturday        5        11\n",
      "1449 2023-03-13  Powerball      3     46     24     10     63   4     March     Monday        0        13\n",
      "\n",
      "[1450 rows x 12 columns]\n",
      "                  DATE_TIME DPTemp DBTemp Precip HourlyRelativeHumidity        Date      Time\n",
      "0       2014-03-13T00:53:00     33     51   0.00                     50  2014-03-13  00:53:00\n",
      "1       2014-03-13T01:00:00     33     51    NaN                     50  2014-03-13  01:00:00\n",
      "2       2014-03-13T01:53:00     31     49   0.00                     50  2014-03-13  01:53:00\n",
      "3       2014-03-13T02:53:00     31     48   0.00                     52  2014-03-13  02:53:00\n",
      "4       2014-03-13T03:53:00     29     47   0.00                     50  2014-03-13  03:53:00\n",
      "...                     ...    ...    ...    ...                    ...         ...       ...\n",
      "119506  2023-03-12T23:53:00     62     64      T                     93  2023-03-12  23:53:00\n",
      "119507  2023-03-12T23:59:00    NaN    NaN    NaN                    NaN  2023-03-12  23:59:00\n",
      "119508  2023-03-13T00:53:00     62     63    NaN                     97  2023-03-13  00:53:00\n",
      "119509  2023-03-13T01:53:00     62     63   0.05                     97  2023-03-13  01:53:00\n",
      "119510  2023-03-13T23:59:00    NaN    NaN    NaN                    NaN  2023-03-13  23:59:00\n",
      "\n",
      "[119511 rows x 7 columns]\n"
     ]
    }
   ],
   "source": [
    "pb_draw_file = (\"assets/powerball.csv\")\n",
    "pb_weather_file = (\"assets/pb_weather.csv\")\n",
    "\n",
    "pb_draw_df = pd.read_csv(pb_draw_file, engine='python', parse_dates= {\"draw_date\" : [\"year\",\"month\",\"day\"]})\n",
    "pb_weather_df = pd.read_csv(pb_weather_file, engine='python')\n",
    "\n",
    "pb_weather_df['Date'] = pd.to_datetime(pb_weather_df['DATE_TIME']).dt.date\n",
    "pb_weather_df['Time'] = pd.to_datetime(pb_weather_df['DATE_TIME']).dt.time\n",
    "\n",
    "pd.to_datetime(pb_draw_df['draw_date'], errors='coerce')\n",
    "pb_draw_df['month'] = pd.DatetimeIndex(pb_draw_df['draw_date']).month_name()\n",
    "pb_draw_df['day_name'] = pd.DatetimeIndex(pb_draw_df['draw_date']).day_name()\n",
    "pb_draw_df['day_num'] = pd.DatetimeIndex(pb_draw_df['draw_date']).dayofweek\n",
    "pb_draw_df['day_date'] = pd.DatetimeIndex(pb_draw_df['draw_date']).day\n",
    "\n",
    "pb_draw_df.to_sql('pb_draw', conn_pb, if_exists='append', index = False)\n",
    "pb_weather_df.to_sql('pb_weather', conn_pb, if_exists='append', index = False)\n",
    "\n",
    "print(pb_draw_df)\n",
    "print(pb_weather_df)"
   ]
  },
  {
   "cell_type": "code",
   "execution_count": 81,
   "metadata": {},
   "outputs": [
    {
     "ename": "OperationalError",
     "evalue": "duplicate column name: draw_time",
     "output_type": "error",
     "traceback": [
      "\u001b[0;31m---------------------------------------------------------------------------\u001b[0m",
      "\u001b[0;31mOperationalError\u001b[0m                          Traceback (most recent call last)",
      "\u001b[1;32m/Users/miked/Documents/Code_Louisville_Project/Lottery-Picker/MegaMil.ipynb Cell 5\u001b[0m in \u001b[0;36m<cell line: 2>\u001b[0;34m()\u001b[0m\n\u001b[1;32m      <a href='vscode-notebook-cell:/Users/miked/Documents/Code_Louisville_Project/Lottery-Picker/MegaMil.ipynb#X16sZmlsZQ%3D%3D?line=0'>1</a>\u001b[0m add_time \u001b[39m=\u001b[39m \u001b[39m\"\u001b[39m\u001b[39mALTER TABLE mb_draw ADD COLUMN draw_time varchar (32)\u001b[39m\u001b[39m\"\u001b[39m\n\u001b[0;32m----> <a href='vscode-notebook-cell:/Users/miked/Documents/Code_Louisville_Project/Lottery-Picker/MegaMil.ipynb#X16sZmlsZQ%3D%3D?line=1'>2</a>\u001b[0m cursor_mb\u001b[39m.\u001b[39;49mexecute(add_time)\n",
      "\u001b[0;31mOperationalError\u001b[0m: duplicate column name: draw_time"
     ]
    }
   ],
   "source": [
    "add_time = \"ALTER TABLE mb_draw ADD COLUMN draw_time varchar (32)\"\n",
    "cursor_mb.execute(add_time)"
   ]
  },
  {
   "cell_type": "code",
   "execution_count": null,
   "metadata": {},
   "outputs": [],
   "source": [
    "#weather_df = weather_df.astype({\"HourlyRelativeHumidity\": float})\n",
    "weather_filter_df = mega_weather_df.query('DBTemp == 42 & RHumid == 73')\n",
    "#weather_df.dtypes\n",
    "#weather_filter_df\n",
    "weather_date_unique = weather_filter_df['Date'].unique()\n",
    "weather_date_unique_df = pd.DataFrame(weather_date_unique, columns=['date_time'])\n",
    "weather_date_unique_df['date_time'] = pd.to_datetime(weather_date_unique_df['date_time'])\n",
    "\n",
    "weather_date_unique_df['time_only'] = pd.to_datetime(weather_date_unique_df['date_time']).dt.time\n",
    "weather_date_unique_df['draw_date'] = pd.to_datetime(weather_date_unique_df['date_time']).dt.date\n",
    "weather_date_unique_df['draw_date'] = pd.to_datetime(weather_date_unique_df['draw_date'])\n",
    "weather_date_unique_df['draw_date'] = weather_date_unique_df['draw_date'].dt.strftime('%m/%d/%Y')\n",
    "\n",
    "\n",
    "\n",
    "dates_list = weather_date_unique_df['draw_date'].values.tolist()\n",
    "\n",
    "#with pd.option_context('display.max_rows', None,\n",
    "#                       'display.max_columns', None,\n",
    "#                       'display.precision', 3,\n",
    "#                       ):\n",
    "#    print(weather_date_unique_df)\n",
    "dates_list\n"
   ]
  },
  {
   "cell_type": "code",
   "execution_count": null,
   "metadata": {},
   "outputs": [],
   "source": [
    "arr = mega_draw_df.iloc[:, 2:7].values\n",
    "\n",
    "mega_draw_df['check'] = npy.any(((arr[:, 1:] - arr[:, :-1]) == 1),axis=1).astype(int)\n",
    "with pd.option_context('display.max_rows', None,\n",
    "                       'display.max_columns', None,\n",
    "                       'display.precision', 3,\n",
    "                       ):\n",
    "    print(mega_draw_df)\n",
    "\n",
    "mega_draw_df.dtypes"
   ]
  },
  {
   "cell_type": "code",
   "execution_count": null,
   "metadata": {},
   "outputs": [],
   "source": [
    "counts_1 = mega_draw_df['num_1'].value_counts()\n",
    "counts_2 = mega_draw_df['num_2'].value_counts()\n",
    "counts_3 = mega_draw_df['num_3'].value_counts()\n",
    "counts_4 = mega_draw_df['num_4'].value_counts()\n",
    "counts_5 = mega_draw_df['num_5'].value_counts()\n",
    "counts_MB = mega_draw_df['MB'].value_counts()\n",
    "#counts_df.columns = ['num_1', 'counts_1']\n",
    "#with pd.option_context('display.max_rows', None,\n",
    "                       #'display.max_columns', None,\n",
    "                       #'display.precision', 3,\n",
    "                       #):\n",
    "    #print(counts_1, counts_2)\n",
    "counts_df = pd.concat([counts_1, counts_2, counts_3, counts_4, counts_5, counts_MB], axis=1)\n",
    "with pd.option_context('display.max_rows', None,\n",
    "                       'display.max_columns', None,\n",
    "                       'display.precision', 3,\n",
    "                       ):\n",
    "    print(counts_df)\n"
   ]
  },
  {
   "cell_type": "code",
   "execution_count": null,
   "metadata": {},
   "outputs": [],
   "source": [
    "mega_draw_df[0:2][['num_1', 'num_5']] #Slice the dataframe by selected row indexes and a list of column names.\n",
    "mega_draw_df['num_3'][:4] #create a series from the first 4 rows (0 - 3) of the column string \"num_3\".\n",
    "dft['num_2' : 'num_5'] #Slice transposed dataframe with row name from 'num_2 up to and including 'num_5'.\n",
    "dft.loc['num_3', 2] #Row/Column based indexing. loc uses lables to slice.\n",
    "mega_draw_df.iloc[1:100, :] #Slice dataframe by rows 1 - 99 and all columns. iloc uses integers as index positions to slice.\n"
   ]
  },
  {
   "cell_type": "code",
   "execution_count": null,
   "metadata": {},
   "outputs": [],
   "source": [
    "mega_draw_df['draw_date'] = pd.to_datetime(mega_draw_df['draw_date'])\n",
    "date_df = mega_draw_df[mega_draw_df['draw_date'].dt.month == 12]\n",
    "\n",
    "counts_1 = date_df['num_1'].value_counts()\n",
    "counts_2 = date_df['num_2'].value_counts()\n",
    "counts_3 = date_df['num_3'].value_counts()\n",
    "counts_4 = date_df['num_4'].value_counts()\n",
    "counts_5 = date_df['num_5'].value_counts()\n",
    "counts_MB = date_df['MB'].value_counts()\n",
    "counts_df = pd.concat([counts_1, counts_2, counts_3, counts_4, counts_5, counts_MB], axis=1)\n",
    "\n",
    "with pd.option_context('display.max_rows', None,\n",
    "                       'display.max_columns', None,\n",
    "                       'display.precision', 3,\n",
    "                       ):\n",
    "    print(counts_df)\n",
    "    "
   ]
  },
  {
   "cell_type": "code",
   "execution_count": null,
   "metadata": {},
   "outputs": [],
   "source": [
    "mega_draw_df['draw_date'].astype(str)\n",
    "df2 = mega_draw_df[mega_draw_df['draw_date'].isin(dates_list)]\n",
    "\n",
    "\n",
    "\n",
    "\n",
    "with pd.option_context('display.max_rows', None,\n",
    "                       'display.max_columns', None,\n",
    "                       'display.precision', 3,\n",
    "                       ):\n",
    "    print(df2)\n",
    "\n"
   ]
  },
  {
   "cell_type": "code",
   "execution_count": null,
   "metadata": {},
   "outputs": [],
   "source": [
    "counts_1 = df2['num_1'].value_counts()\n",
    "counts_2 = df2['num_2'].value_counts()\n",
    "counts_3 = df2['num_3'].value_counts()\n",
    "counts_4 = df2['num_4'].value_counts()\n",
    "counts_5 = df2['num_5'].value_counts()\n",
    "counts_MB = df2['MB'].value_counts()\n",
    "counts_MB_df= pd.DataFrame(counts_MB)\n",
    "sorted_MB = counts_MB_df.sort_values('MB', ascending=False)\n",
    "counts_df = pd.concat([counts_1, counts_2, counts_3, counts_4, counts_5], axis=1)\n",
    "counts_df['totals'] = counts_df.sum(axis=1, skipna=True)\n",
    "sorted_df = counts_df.sort_values('totals', ascending=False)\n",
    "\n",
    "with pd.option_context('display.max_rows', None,\n",
    "                       'display.max_columns', None,\n",
    "                       'display.precision', 3,\n",
    "                       ):\n",
    "    print(sorted_df)\n",
    "    print(sorted_MB)"
   ]
  },
  {
   "cell_type": "code",
   "execution_count": null,
   "metadata": {},
   "outputs": [],
   "source": [
    "draw_list=(sorted_df.index.values)\n",
    "draw_list_MB=(sorted_MB.index.values)\n",
    "print(draw_list)\n",
    "print(draw_list_MB)\n",
    "type(draw_list)"
   ]
  },
  {
   "cell_type": "code",
   "execution_count": null,
   "metadata": {},
   "outputs": [],
   "source": [
    "draw_list = list(draw_list)\n",
    "new_list1 = random.sample(draw_list, 5)\n",
    "new_list1 = sorted(new_list1)\n",
    "draw_list_MB = list(draw_list_MB)\n",
    "new_list_MB = random.sample(draw_list_MB, 1)\n",
    "#sorted([str(x) for x in new_list1])\n",
    "print(new_list1 + new_list_MB)\n",
    "type(new_list1[1])"
   ]
  }
 ],
 "metadata": {
  "kernelspec": {
   "display_name": "Python 3.10.6 64-bit",
   "language": "python",
   "name": "python3"
  },
  "language_info": {
   "codemirror_mode": {
    "name": "ipython",
    "version": 3
   },
   "file_extension": ".py",
   "mimetype": "text/x-python",
   "name": "python",
   "nbconvert_exporter": "python",
   "pygments_lexer": "ipython3",
   "version": "3.10.6"
  },
  "orig_nbformat": 4,
  "vscode": {
   "interpreter": {
    "hash": "aee8b7b246df8f9039afb4144a1f6fd8d2ca17a180786b69acc140d282b71a49"
   }
  }
 },
 "nbformat": 4,
 "nbformat_minor": 2
}
